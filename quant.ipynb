{
 "cells": [
  {
   "cell_type": "code",
   "execution_count": 3,
   "metadata": {},
   "outputs": [],
   "source": [
    "import numpy as np\n",
    "import torch\n",
    "import torch.nn as nn\n",
    "DEVICE = \"cuda\" if torch.cuda.is_available() else \"cpu\""
   ]
  },
  {
   "cell_type": "code",
   "execution_count": 4,
   "metadata": {},
   "outputs": [
    {
     "name": "stdout",
     "output_type": "stream",
     "text": [
      "SOS_IDX: 2 EOS_IDX: 1 UNK_IDX: 3\n"
     ]
    }
   ],
   "source": [
    "DICTIONARY_PATH = \"./dictionary.txt\"\n",
    "DICTIONARY_list =  np.loadtxt(DICTIONARY_PATH, dtype= str)\n",
    "DICTIONARY_dict = {word: idx for idx, word in enumerate(DICTIONARY_list)}\n",
    "SOS_IDX = DICTIONARY_dict[\"<sos>\"]\n",
    "EOS_IDX = DICTIONARY_dict[\"<eos>\"]\n",
    "UNK_IDX = DICTIONARY_dict[\"<unk>\"]\n",
    "print(\"SOS_IDX:\",SOS_IDX,\"EOS_IDX:\",EOS_IDX,\"UNK_IDX:\", UNK_IDX)"
   ]
  },
  {
   "cell_type": "markdown",
   "metadata": {},
   "source": [
    "# Quantizing LSTM without attention"
   ]
  },
  {
   "cell_type": "code",
   "execution_count": 9,
   "metadata": {},
   "outputs": [
    {
     "data": {
      "text/plain": [
       "<All keys matched successfully>"
      ]
     },
     "execution_count": 9,
     "metadata": {},
     "output_type": "execute_result"
    }
   ],
   "source": [
    "#LSTM WITHOUT ATTENTION\n",
    "class BiLSTM_N_gramModel_WITHOUT_ATTENTION(nn.Module):\n",
    "    def __init__(self, vocab_size, embedding_dim, hidden_size):\n",
    "        super(BiLSTM_N_gramModel_WITHOUT_ATTENTION, self).__init__()\n",
    "        self.embedding = nn.Embedding(vocab_size, embedding_dim)\n",
    "        self.bilstm = nn.LSTM(embedding_dim, hidden_size, batch_first=True, bidirectional=True)\n",
    "        self.fc = torch.nn.Sequential(nn.Linear(hidden_size * 2, embedding_dim),\n",
    "                                      nn.Linear(embedding_dim, vocab_size),)\n",
    "\n",
    "    def forward(self, x):\n",
    "        embedded = self.embedding(x)\n",
    "        output, _ = self.bilstm(embedded)\n",
    "        logits = self.fc(output)\n",
    "        return logits\n",
    "    \n",
    "vocab_size = len(DICTIONARY_list)\n",
    "embedding_dim = 300\n",
    "hidden_size = 256\n",
    "\n",
    "\n",
    "model_WITHOUT_ATTENTION = BiLSTM_N_gramModel_WITHOUT_ATTENTION(vocab_size, embedding_dim, hidden_size).to(DEVICE)\n",
    "\n",
    "state_dict = torch.load(\"./unquantized/LSTM1_checkpoint.pth\",map_location=torch.device('cpu'))\n",
    "model_WITHOUT_ATTENTION.load_state_dict(state_dict[\"model_state_dict\"])"
   ]
  },
  {
   "cell_type": "code",
   "execution_count": 10,
   "metadata": {},
   "outputs": [],
   "source": [
    "model_WITHOUT_ATTENTION = torch.quantization.quantize_dynamic(\n",
    "    model_WITHOUT_ATTENTION,\n",
    "    # qconfig_spec={nn.Embedding},  # Specify which submodules to quantize\n",
    "    dtype=torch.qint8\n",
    ")"
   ]
  },
  {
   "cell_type": "code",
   "execution_count": 17,
   "metadata": {},
   "outputs": [],
   "source": [
    "torch.save({'model_state_dict':model_WITHOUT_ATTENTION.state_dict()}, \n",
    "              \"./LSTM1_checkpoint.pth\")"
   ]
  },
  {
   "cell_type": "markdown",
   "metadata": {},
   "source": [
    "# Quantizing LSTM With attention"
   ]
  },
  {
   "cell_type": "code",
   "execution_count": 13,
   "metadata": {},
   "outputs": [
    {
     "data": {
      "text/plain": [
       "<All keys matched successfully>"
      ]
     },
     "execution_count": 13,
     "metadata": {},
     "output_type": "execute_result"
    }
   ],
   "source": [
    "# MODEL\n",
    "class BiLSTM_N_gramModel(nn.Module):\n",
    "    def __init__(self, vocab_size, embedding_dim, hidden_size):\n",
    "        super(BiLSTM_N_gramModel, self).__init__()\n",
    "        self.embedding = nn.Embedding(vocab_size, embedding_dim)\n",
    "        self.bilstm = nn.LSTM(embedding_dim, hidden_size, batch_first=True, bidirectional=True)\n",
    "        self.attention = nn.MultiheadAttention(embed_dim = hidden_size*2, num_heads=1, dropout=0.0,\n",
    "                                               batch_first=True)\n",
    "        self.fc = torch.nn.Sequential(nn.Linear(hidden_size * 2, embedding_dim),\n",
    "                                      nn.Linear(embedding_dim, vocab_size),)\n",
    "\n",
    "    def forward(self, x):\n",
    "        embedded = self.embedding(x)\n",
    "        output, _ = self.bilstm(embedded)\n",
    "        attn_output , attn_output_weights = self.attention(query=output, key=output, value=output,\n",
    "                                                           need_weights=True, average_attn_weights=True)\n",
    "        logits = self.fc(output)\n",
    "        return logits, attn_output_weights\n",
    "\n",
    "# Initialize the model\n",
    "\n",
    "\n",
    "model = BiLSTM_N_gramModel(vocab_size, embedding_dim, hidden_size).to(DEVICE)\n",
    "\n",
    "state_dict = torch.load(\"./unquantized/LSTM_attention_checkpoint.pth\",map_location=torch.device('cpu'))\n",
    "model.load_state_dict(state_dict[\"model_state_dict\"])"
   ]
  },
  {
   "cell_type": "code",
   "execution_count": 14,
   "metadata": {},
   "outputs": [],
   "source": [
    "model = torch.quantization.quantize_dynamic(\n",
    "    model,\n",
    "    # qconfig_spec={nn.Embedding},  # Specify which submodules to quantize\n",
    "    dtype=torch.qint8\n",
    ")"
   ]
  },
  {
   "cell_type": "code",
   "execution_count": 16,
   "metadata": {},
   "outputs": [],
   "source": [
    "torch.save({'model_state_dict':model.state_dict()}, \"./LSTM_attention_checkpoint.pth\")"
   ]
  },
  {
   "cell_type": "code",
   "execution_count": null,
   "metadata": {},
   "outputs": [],
   "source": []
  }
 ],
 "metadata": {
  "kernelspec": {
   "display_name": "Python 3",
   "language": "python",
   "name": "python3"
  },
  "language_info": {
   "codemirror_mode": {
    "name": "ipython",
    "version": 3
   },
   "file_extension": ".py",
   "mimetype": "text/x-python",
   "name": "python",
   "nbconvert_exporter": "python",
   "pygments_lexer": "ipython3",
   "version": "3.10.6"
  }
 },
 "nbformat": 4,
 "nbformat_minor": 2
}
