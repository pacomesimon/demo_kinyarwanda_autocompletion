{
 "cells": [
  {
   "cell_type": "markdown",
   "metadata": {
    "id": "rDrtGJ2S3xLZ"
   },
   "source": [
    "# Kinyarwanda Text Auto-Completion Using a Bi-LSTM model, with Attention."
   ]
  },
  {
   "cell_type": "code",
   "execution_count": null,
   "metadata": {
    "colab": {
     "base_uri": "https://localhost:8080/"
    },
    "id": "QF_cgK1Uxb51",
    "outputId": "f85e477d-ed48-45b3-f491-e3c5e88e6b8a"
   },
   "outputs": [
    {
     "name": "stdout",
     "output_type": "stream",
     "text": [
      "Fri Dec  8 17:31:15 2023       \n",
      "+-----------------------------------------------------------------------------+\n",
      "| NVIDIA-SMI 525.105.17   Driver Version: 525.105.17   CUDA Version: 12.0     |\n",
      "|-------------------------------+----------------------+----------------------+\n",
      "| GPU  Name        Persistence-M| Bus-Id        Disp.A | Volatile Uncorr. ECC |\n",
      "| Fan  Temp  Perf  Pwr:Usage/Cap|         Memory-Usage | GPU-Util  Compute M. |\n",
      "|                               |                      |               MIG M. |\n",
      "|===============================+======================+======================|\n",
      "|   0  Tesla T4            Off  | 00000000:00:04.0 Off |                    0 |\n",
      "| N/A   57C    P8    10W /  70W |      0MiB / 15360MiB |      0%      Default |\n",
      "|                               |                      |                  N/A |\n",
      "+-------------------------------+----------------------+----------------------+\n",
      "                                                                               \n",
      "+-----------------------------------------------------------------------------+\n",
      "| Processes:                                                                  |\n",
      "|  GPU   GI   CI        PID   Type   Process name                  GPU Memory |\n",
      "|        ID   ID                                                   Usage      |\n",
      "|=============================================================================|\n",
      "|  No running processes found                                                 |\n",
      "+-----------------------------------------------------------------------------+\n"
     ]
    }
   ],
   "source": [
    "!nvidia-smi # to see what GPU you have"
   ]
  },
  {
   "cell_type": "code",
   "execution_count": null,
   "metadata": {
    "colab": {
     "base_uri": "https://localhost:8080/"
    },
    "id": "VjXVDkQMb0nd",
    "outputId": "83b9af36-c570-4b03-82c9-290d1c20c82e"
   },
   "outputs": [
    {
     "name": "stdout",
     "output_type": "stream",
     "text": [
      "Collecting torchsummaryX\n",
      "  Downloading torchsummaryX-1.3.0-py3-none-any.whl (3.6 kB)\n",
      "Requirement already satisfied: torch in /usr/local/lib/python3.10/dist-packages (from torchsummaryX) (2.1.0+cu118)\n",
      "Requirement already satisfied: numpy in /usr/local/lib/python3.10/dist-packages (from torchsummaryX) (1.23.5)\n",
      "Requirement already satisfied: pandas in /usr/local/lib/python3.10/dist-packages (from torchsummaryX) (1.5.3)\n",
      "Requirement already satisfied: python-dateutil>=2.8.1 in /usr/local/lib/python3.10/dist-packages (from pandas->torchsummaryX) (2.8.2)\n",
      "Requirement already satisfied: pytz>=2020.1 in /usr/local/lib/python3.10/dist-packages (from pandas->torchsummaryX) (2023.3.post1)\n",
      "Requirement already satisfied: filelock in /usr/local/lib/python3.10/dist-packages (from torch->torchsummaryX) (3.13.1)\n",
      "Requirement already satisfied: typing-extensions in /usr/local/lib/python3.10/dist-packages (from torch->torchsummaryX) (4.5.0)\n",
      "Requirement already satisfied: sympy in /usr/local/lib/python3.10/dist-packages (from torch->torchsummaryX) (1.12)\n",
      "Requirement already satisfied: networkx in /usr/local/lib/python3.10/dist-packages (from torch->torchsummaryX) (3.2.1)\n",
      "Requirement already satisfied: jinja2 in /usr/local/lib/python3.10/dist-packages (from torch->torchsummaryX) (3.1.2)\n",
      "Requirement already satisfied: fsspec in /usr/local/lib/python3.10/dist-packages (from torch->torchsummaryX) (2023.6.0)\n",
      "Requirement already satisfied: triton==2.1.0 in /usr/local/lib/python3.10/dist-packages (from torch->torchsummaryX) (2.1.0)\n",
      "Requirement already satisfied: six>=1.5 in /usr/local/lib/python3.10/dist-packages (from python-dateutil>=2.8.1->pandas->torchsummaryX) (1.16.0)\n",
      "Requirement already satisfied: MarkupSafe>=2.0 in /usr/local/lib/python3.10/dist-packages (from jinja2->torch->torchsummaryX) (2.1.3)\n",
      "Requirement already satisfied: mpmath>=0.19 in /usr/local/lib/python3.10/dist-packages (from sympy->torch->torchsummaryX) (1.3.0)\n",
      "Installing collected packages: torchsummaryX\n",
      "Successfully installed torchsummaryX-1.3.0\n"
     ]
    }
   ],
   "source": [
    "!pip install torchsummaryX"
   ]
  },
  {
   "cell_type": "code",
   "execution_count": null,
   "metadata": {
    "colab": {
     "base_uri": "https://localhost:8080/"
    },
    "id": "FkkZsNHTmc0j",
    "outputId": "bf36a8d4-2170-4edb-e23a-c171b8673ade"
   },
   "outputs": [
    {
     "name": "stdout",
     "output_type": "stream",
     "text": [
      "\u001b[2K     \u001b[90m━━━━━━━━━━━━━━━━━━━━━━━━━━━━━━━━━━━━━━━━\u001b[0m \u001b[32m2.1/2.1 MB\u001b[0m \u001b[31m4.8 MB/s\u001b[0m eta \u001b[36m0:00:00\u001b[0m\n",
      "\u001b[2K     \u001b[90m━━━━━━━━━━━━━━━━━━━━━━━━━━━━━━━━━━━━━━━━\u001b[0m \u001b[32m190.6/190.6 kB\u001b[0m \u001b[31m9.9 MB/s\u001b[0m eta \u001b[36m0:00:00\u001b[0m\n",
      "\u001b[2K     \u001b[90m━━━━━━━━━━━━━━━━━━━━━━━━━━━━━━━━━━━━━━━━\u001b[0m \u001b[32m254.0/254.0 kB\u001b[0m \u001b[31m8.0 MB/s\u001b[0m eta \u001b[36m0:00:00\u001b[0m\n",
      "\u001b[2K     \u001b[90m━━━━━━━━━━━━━━━━━━━━━━━━━━━━━━━━━━━━━━━━\u001b[0m \u001b[32m62.7/62.7 kB\u001b[0m \u001b[31m2.1 MB/s\u001b[0m eta \u001b[36m0:00:00\u001b[0m\n",
      "\u001b[?25h"
     ]
    }
   ],
   "source": [
    "!pip install wandb --quiet"
   ]
  },
  {
   "cell_type": "code",
   "execution_count": null,
   "metadata": {
    "colab": {
     "base_uri": "https://localhost:8080/"
    },
    "id": "btlndU-cWAXs",
    "outputId": "971e3571-f196-47e0-c644-04088c62a08f"
   },
   "outputs": [
    {
     "name": "stdout",
     "output_type": "stream",
     "text": [
      "Device:  cuda\n"
     ]
    }
   ],
   "source": [
    "#importing Libraries\n",
    "import numpy as np\n",
    "import pandas as pd\n",
    "import torch\n",
    "import torch.nn as nn\n",
    "import torch.optim as optim\n",
    "import matplotlib.pyplot as plt\n",
    "from tqdm import tqdm\n",
    "from torch.utils.data import Dataset, DataLoader\n",
    "from sklearn.model_selection import train_test_split\n",
    "from torch.nn.utils.rnn import pad_sequence\n",
    "import os\n",
    "import re\n",
    "import random\n",
    "import wandb\n",
    "import torchsummaryX\n",
    "\n",
    "import seaborn\n",
    "import matplotlib.pyplot as plt\n",
    "DEVICE = \"cuda\" if torch.cuda.is_available() else \"cpu\"\n",
    "print(\"Device: \", DEVICE)"
   ]
  },
  {
   "cell_type": "code",
   "execution_count": null,
   "metadata": {
    "colab": {
     "base_uri": "https://localhost:8080/"
    },
    "id": "WUFXQpP5Stem",
    "outputId": "a9ca8908-7a53-40f6-a8c5-f17f1fa48f5d"
   },
   "outputs": [
    {
     "name": "stdout",
     "output_type": "stream",
     "text": [
      "Mounted at /content/drive\n"
     ]
    }
   ],
   "source": [
    "from google.colab import drive\n",
    "drive.mount('/content/drive')"
   ]
  },
  {
   "cell_type": "code",
   "execution_count": null,
   "metadata": {
    "id": "4X_v8D64uXgw"
   },
   "outputs": [],
   "source": [
    "# !unzip /content/filtered_datasets.zip"
   ]
  },
  {
   "cell_type": "markdown",
   "metadata": {
    "id": "yuxlMQw-39Lu"
   },
   "source": [
    "### Defining global variables and helper functions."
   ]
  },
  {
   "cell_type": "code",
   "execution_count": null,
   "metadata": {
    "colab": {
     "base_uri": "https://localhost:8080/"
    },
    "id": "Q6UeX35B_jg9",
    "outputId": "7b630bc9-c501-40a5-c00d-c518af052c04"
   },
   "outputs": [
    {
     "name": "stdout",
     "output_type": "stream",
     "text": [
      "SOS_IDX: 2 EOS_IDX: 1 UNK_IDX: 3\n"
     ]
    }
   ],
   "source": [
    "DICTIONARY_PATH = \"/content/drive/MyDrive/IDL Group Project/Dataset preparation/filtered_datasets_v2/dictionary.txt\"\n",
    "DICTIONARY_list =  np.loadtxt(DICTIONARY_PATH, dtype= str)\n",
    "DICTIONARY_dict = {word: idx for idx, word in enumerate(DICTIONARY_list)}\n",
    "SOS_IDX = DICTIONARY_dict[\"<sos>\"]\n",
    "EOS_IDX = DICTIONARY_dict[\"<eos>\"]\n",
    "UNK_IDX = DICTIONARY_dict[\"<unk>\"]\n",
    "print(\"SOS_IDX:\",SOS_IDX,\"EOS_IDX:\",EOS_IDX,\"UNK_IDX:\", UNK_IDX)"
   ]
  },
  {
   "cell_type": "code",
   "execution_count": null,
   "metadata": {
    "id": "uNG0zeZF_01o"
   },
   "outputs": [],
   "source": [
    "def get_files_in_directory(directory_path):\n",
    "    \"\"\"\n",
    "    This function returns a list of filenames in a\n",
    "    specific directory path.\n",
    "    \"\"\"\n",
    "    files = []\n",
    "    for file in os.listdir(directory_path):\n",
    "        if os.path.isfile(os.path.join(directory_path, file)):\n",
    "            files.append(file)\n",
    "    return files"
   ]
  },
  {
   "cell_type": "code",
   "execution_count": null,
   "metadata": {
    "colab": {
     "base_uri": "https://localhost:8080/"
    },
    "id": "gC0LA_w3_wiB",
    "outputId": "3c7094fb-6b7b-4ce6-ca37-61533cd01283"
   },
   "outputs": [
    {
     "name": "stdout",
     "output_type": "stream",
     "text": [
      "['corpus1.txt_10000_.npy', 'corpus1.txt_1000_.npy', 'corpus1.txt_100_.npy', 'corpus1.txt_10100_.npy', 'corpus1.txt_10200_.npy', 'corpus1.txt_10300_.npy', 'corpus1.txt_10400_.npy', 'corpus1.txt_10500_.npy', 'corpus1.txt_10600_.npy', 'corpus1.txt_10700_.npy', 'corpus1.txt_10800_.npy', 'corpus1.txt_10900_.npy', 'corpus1.txt_11000_.npy', 'corpus1.txt_1100_.npy', 'corpus1.txt_11100_.npy', 'corpus1.txt_11200_.npy', 'corpus1.txt_11300_.npy', 'corpus1.txt_11400_.npy', 'corpus1.txt_11500_.npy', 'corpus1.txt_11600_.npy', 'corpus1.txt_11700_.npy', 'corpus1.txt_11800_.npy', 'corpus1.txt_11900_.npy', 'corpus1.txt_12000_.npy', 'corpus1.txt_1200_.npy', 'corpus1.txt_12100_.npy', 'corpus1.txt_12200_.npy', 'corpus1.txt_12300_.npy', 'corpus1.txt_12400_.npy', 'corpus1.txt_12500_.npy', 'corpus1.txt_12600_.npy', 'corpus1.txt_12700_.npy', 'corpus1.txt_12800_.npy', 'corpus1.txt_12900_.npy', 'corpus1.txt_13000_.npy', 'corpus1.txt_1300_.npy', 'corpus1.txt_13100_.npy', 'corpus1.txt_13200_.npy', 'corpus1.txt_13300_.npy', 'corpus1.txt_13400_.npy', 'corpus1.txt_13500_.npy', 'corpus1.txt_13600_.npy', 'corpus1.txt_13700_.npy', 'corpus1.txt_13800_.npy', 'corpus1.txt_13900_.npy', 'corpus1.txt_14000_.npy', 'corpus1.txt_1400_.npy', 'corpus1.txt_14100_.npy', 'corpus1.txt_14200_.npy', 'corpus1.txt_14300_.npy', 'corpus1.txt_14400_.npy', 'corpus1.txt_14500_.npy', 'corpus1.txt_14600_.npy', 'corpus1.txt_14700_.npy', 'corpus1.txt_14800_.npy', 'corpus1.txt_14900_.npy', 'corpus1.txt_15000_.npy', 'corpus1.txt_1500_.npy', 'corpus1.txt_15100_.npy', 'corpus1.txt_15200_.npy', 'corpus1.txt_15300_.npy', 'corpus1.txt_15400_.npy', 'corpus1.txt_15500_.npy', 'corpus1.txt_15600_.npy', 'corpus1.txt_15700_.npy', 'corpus1.txt_15800_.npy', 'corpus1.txt_15900_.npy', 'corpus1.txt_16000_.npy', 'corpus1.txt_1600_.npy', 'corpus1.txt_16100_.npy', 'corpus1.txt_16200_.npy', 'corpus1.txt_16300_.npy', 'corpus1.txt_16400_.npy', 'corpus1.txt_16500_.npy', 'corpus1.txt_16600_.npy', 'corpus1.txt_16700_.npy', 'corpus1.txt_16800_.npy', 'corpus1.txt_16900_.npy', 'corpus1.txt_17000_.npy', 'corpus1.txt_1700_.npy', 'corpus1.txt_17100_.npy', 'corpus1.txt_17200_.npy', 'corpus1.txt_17300_.npy', 'corpus1.txt_17400_.npy', 'corpus1.txt_17500_.npy', 'corpus1.txt_17600_.npy', 'corpus1.txt_17700_.npy', 'corpus1.txt_17800_.npy', 'corpus1.txt_17900_.npy', 'corpus1.txt_18000_.npy', 'corpus1.txt_1800_.npy', 'corpus1.txt_18100_.npy', 'corpus1.txt_18200_.npy', 'corpus1.txt_18300_.npy', 'corpus1.txt_18400_.npy', 'corpus1.txt_18500_.npy', 'corpus1.txt_18600_.npy', 'corpus1.txt_18700_.npy', 'corpus1.txt_18800_.npy', 'corpus1.txt_18900_.npy', 'corpus1.txt_19000_.npy', 'corpus1.txt_1900_.npy', 'corpus1.txt_19100_.npy', 'corpus1.txt_19200_.npy', 'corpus1.txt_19300_.npy', 'corpus1.txt_19400_.npy', 'corpus1.txt_19500_.npy', 'corpus1.txt_19600_.npy', 'corpus1.txt_19700_.npy', 'corpus1.txt_19724_.npy', 'corpus1.txt_2000_.npy', 'corpus1.txt_200_.npy', 'corpus1.txt_2100_.npy', 'corpus1.txt_2200_.npy', 'corpus1.txt_2300_.npy', 'corpus1.txt_2400_.npy', 'corpus1.txt_2500_.npy', 'corpus1.txt_2600_.npy', 'corpus1.txt_2700_.npy', 'corpus1.txt_2800_.npy', 'corpus1.txt_2900_.npy', 'corpus1.txt_3000_.npy', 'corpus1.txt_300_.npy', 'corpus1.txt_3100_.npy', 'corpus1.txt_3200_.npy', 'corpus1.txt_3300_.npy', 'corpus1.txt_3400_.npy', 'corpus1.txt_3500_.npy', 'corpus1.txt_3600_.npy', 'corpus1.txt_3700_.npy', 'corpus1.txt_3800_.npy', 'corpus1.txt_3900_.npy', 'corpus1.txt_4000_.npy', 'corpus1.txt_400_.npy', 'corpus1.txt_4100_.npy', 'corpus1.txt_4200_.npy', 'corpus1.txt_4300_.npy', 'corpus1.txt_4400_.npy', 'corpus1.txt_4500_.npy', 'corpus1.txt_4600_.npy', 'corpus1.txt_4700_.npy', 'corpus1.txt_4800_.npy', 'corpus1.txt_4900_.npy', 'corpus1.txt_5000_.npy', 'corpus1.txt_500_.npy', 'corpus1.txt_5100_.npy', 'corpus1.txt_5200_.npy', 'corpus1.txt_5300_.npy', 'corpus1.txt_5400_.npy', 'corpus1.txt_5500_.npy', 'corpus1.txt_5600_.npy', 'corpus1.txt_5700_.npy', 'corpus1.txt_5800_.npy', 'corpus1.txt_5900_.npy', 'corpus1.txt_6000_.npy', 'corpus1.txt_600_.npy', 'corpus1.txt_6100_.npy', 'corpus1.txt_6200_.npy', 'corpus1.txt_6300_.npy', 'corpus1.txt_6400_.npy', 'corpus1.txt_6500_.npy', 'corpus1.txt_6600_.npy', 'corpus1.txt_6700_.npy', 'corpus1.txt_6800_.npy', 'corpus1.txt_6900_.npy', 'corpus1.txt_7000_.npy', 'corpus1.txt_700_.npy', 'corpus1.txt_7100_.npy', 'corpus1.txt_7200_.npy', 'corpus1.txt_7300_.npy', 'corpus1.txt_7400_.npy', 'corpus1.txt_7500_.npy', 'corpus1.txt_7600_.npy', 'corpus1.txt_7700_.npy', 'corpus1.txt_7800_.npy', 'corpus1.txt_7900_.npy', 'corpus1.txt_8000_.npy', 'corpus1.txt_800_.npy', 'corpus1.txt_8100_.npy', 'corpus1.txt_8200_.npy', 'corpus1.txt_8300_.npy', 'corpus1.txt_8400_.npy', 'corpus1.txt_8500_.npy', 'corpus1.txt_8600_.npy', 'corpus1.txt_8700_.npy', 'corpus1.txt_8800_.npy', 'corpus1.txt_8900_.npy', 'corpus1.txt_9000_.npy', 'corpus1.txt_900_.npy', 'corpus1.txt_9100_.npy', 'corpus1.txt_9200_.npy', 'corpus1.txt_9300_.npy', 'corpus1.txt_9400_.npy', 'corpus1.txt_9500_.npy', 'corpus1.txt_9600_.npy', 'corpus1.txt_9700_.npy', 'corpus1.txt_9800_.npy', 'corpus1.txt_9900_.npy', 'corpus2.txt_1000_.npy', 'corpus2.txt_100_.npy', 'corpus2.txt_1100_.npy', 'corpus2.txt_1200_.npy', 'corpus2.txt_1300_.npy', 'corpus2.txt_1400_.npy', 'corpus2.txt_1500_.npy', 'corpus2.txt_1600_.npy', 'corpus2.txt_1700_.npy', 'corpus2.txt_1800_.npy', 'corpus2.txt_1900_.npy', 'corpus2.txt_2000_.npy', 'corpus2.txt_200_.npy', 'corpus2.txt_2100_.npy', 'corpus2.txt_2200_.npy', 'corpus2.txt_2300_.npy', 'corpus2.txt_2400_.npy', 'corpus2.txt_2500_.npy', 'corpus2.txt_2600_.npy', 'corpus2.txt_2700_.npy', 'corpus2.txt_2800_.npy', 'corpus2.txt_2900_.npy', 'corpus2.txt_3000_.npy', 'corpus2.txt_300_.npy', 'corpus2.txt_3100_.npy', 'corpus2.txt_3200_.npy', 'corpus2.txt_3300_.npy', 'corpus2.txt_3400_.npy', 'corpus2.txt_3500_.npy', 'corpus2.txt_3600_.npy', 'corpus2.txt_3700_.npy', 'corpus2.txt_3800_.npy', 'corpus2.txt_3900_.npy', 'corpus2.txt_4000_.npy', 'corpus2.txt_400_.npy', 'corpus2.txt_4100_.npy', 'corpus2.txt_4200_.npy', 'corpus2.txt_4300_.npy', 'corpus2.txt_4400_.npy', 'corpus2.txt_4500_.npy', 'corpus2.txt_4600_.npy', 'corpus2.txt_4700_.npy', 'corpus2.txt_4800_.npy', 'corpus2.txt_4900_.npy', 'corpus2.txt_5000_.npy', 'corpus2.txt_500_.npy', 'corpus2.txt_5100_.npy', 'corpus2.txt_5200_.npy', 'corpus2.txt_5300_.npy', 'corpus2.txt_5400_.npy', 'corpus2.txt_5500_.npy', 'corpus2.txt_5600_.npy', 'corpus2.txt_5700_.npy', 'corpus2.txt_5800_.npy', 'corpus2.txt_5900_.npy', 'corpus2.txt_6000_.npy', 'corpus2.txt_600_.npy', 'corpus2.txt_700_.npy', 'corpus2.txt_800_.npy', 'corpus2.txt_900_.npy', 'newsarticles.txt_100000_.npy', 'newsarticles.txt_10000_.npy', 'newsarticles.txt_1000_.npy', 'newsarticles.txt_100100_.npy', 'newsarticles.txt_100200_.npy', 'newsarticles.txt_100300_.npy', 'newsarticles.txt_100400_.npy', 'newsarticles.txt_100500_.npy', 'newsarticles.txt_100600_.npy', 'newsarticles.txt_100700_.npy', 'newsarticles.txt_100800_.npy', 'newsarticles.txt_100900_.npy', 'newsarticles.txt_100_.npy', 'newsarticles.txt_101000_.npy', 'newsarticles.txt_10100_.npy', 'newsarticles.txt_101100_.npy', 'newsarticles.txt_101200_.npy', 'newsarticles.txt_101300_.npy', 'newsarticles.txt_101400_.npy', 'newsarticles.txt_101500_.npy', 'newsarticles.txt_101600_.npy', 'newsarticles.txt_101700_.npy', 'newsarticles.txt_101800_.npy', 'newsarticles.txt_101900_.npy', 'newsarticles.txt_102000_.npy', 'newsarticles.txt_10200_.npy', 'newsarticles.txt_102100_.npy', 'newsarticles.txt_102200_.npy', 'newsarticles.txt_102300_.npy', 'newsarticles.txt_102400_.npy', 'newsarticles.txt_102500_.npy', 'newsarticles.txt_102600_.npy', 'newsarticles.txt_102700_.npy', 'newsarticles.txt_102800_.npy', 'newsarticles.txt_102900_.npy', 'newsarticles.txt_103000_.npy', 'newsarticles.txt_10300_.npy', 'newsarticles.txt_103100_.npy', 'newsarticles.txt_103200_.npy', 'newsarticles.txt_103300_.npy', 'newsarticles.txt_103400_.npy', 'newsarticles.txt_103500_.npy', 'newsarticles.txt_103600_.npy', 'newsarticles.txt_103700_.npy', 'newsarticles.txt_103800_.npy', 'newsarticles.txt_103900_.npy', 'newsarticles.txt_104000_.npy', 'newsarticles.txt_10400_.npy', 'newsarticles.txt_104100_.npy', 'newsarticles.txt_104200_.npy', 'newsarticles.txt_104300_.npy', 'newsarticles.txt_104400_.npy', 'newsarticles.txt_104500_.npy', 'newsarticles.txt_104600_.npy', 'newsarticles.txt_104700_.npy', 'newsarticles.txt_104800_.npy', 'newsarticles.txt_104900_.npy', 'newsarticles.txt_105000_.npy', 'newsarticles.txt_10500_.npy', 'newsarticles.txt_105100_.npy', 'newsarticles.txt_105200_.npy', 'newsarticles.txt_105300_.npy', 'newsarticles.txt_105400_.npy', 'newsarticles.txt_105500_.npy', 'newsarticles.txt_105600_.npy', 'newsarticles.txt_105700_.npy', 'newsarticles.txt_105800_.npy', 'newsarticles.txt_105900_.npy', 'newsarticles.txt_106000_.npy', 'newsarticles.txt_10600_.npy', 'newsarticles.txt_106100_.npy', 'newsarticles.txt_106200_.npy', 'newsarticles.txt_106300_.npy', 'newsarticles.txt_106400_.npy', 'newsarticles.txt_106500_.npy', 'newsarticles.txt_106600_.npy', 'newsarticles.txt_106700_.npy', 'newsarticles.txt_106800_.npy', 'newsarticles.txt_106900_.npy', 'newsarticles.txt_107000_.npy', 'newsarticles.txt_10700_.npy', 'newsarticles.txt_107100_.npy', 'newsarticles.txt_107200_.npy', 'newsarticles.txt_107300_.npy', 'newsarticles.txt_107400_.npy', 'newsarticles.txt_107500_.npy', 'newsarticles.txt_107600_.npy', 'newsarticles.txt_107700_.npy', 'newsarticles.txt_107800_.npy', 'newsarticles.txt_107900_.npy', 'newsarticles.txt_108000_.npy', 'newsarticles.txt_10800_.npy', 'newsarticles.txt_108100_.npy', 'newsarticles.txt_108200_.npy', 'newsarticles.txt_108300_.npy', 'newsarticles.txt_108400_.npy', 'newsarticles.txt_108500_.npy', 'newsarticles.txt_108600_.npy', 'newsarticles.txt_108700_.npy', 'newsarticles.txt_108800_.npy', 'newsarticles.txt_108900_.npy', 'newsarticles.txt_109000_.npy', 'newsarticles.txt_10900_.npy', 'newsarticles.txt_109100_.npy', 'newsarticles.txt_109200_.npy', 'newsarticles.txt_109300_.npy', 'newsarticles.txt_109400_.npy', 'newsarticles.txt_109500_.npy', 'newsarticles.txt_109600_.npy', 'newsarticles.txt_109700_.npy', 'newsarticles.txt_109800_.npy', 'newsarticles.txt_109900_.npy', 'newsarticles.txt_110000_.npy', 'newsarticles.txt_11000_.npy', 'newsarticles.txt_1100_.npy', 'newsarticles.txt_110100_.npy', 'newsarticles.txt_110200_.npy', 'newsarticles.txt_110300_.npy', 'newsarticles.txt_110400_.npy', 'newsarticles.txt_110500_.npy', 'newsarticles.txt_110600_.npy', 'newsarticles.txt_110700_.npy', 'newsarticles.txt_110800_.npy', 'newsarticles.txt_110900_.npy', 'newsarticles.txt_111000_.npy', 'newsarticles.txt_11100_.npy', 'newsarticles.txt_111100_.npy', 'newsarticles.txt_111200_.npy', 'newsarticles.txt_111300_.npy', 'newsarticles.txt_111400_.npy', 'newsarticles.txt_111500_.npy', 'newsarticles.txt_111600_.npy', 'newsarticles.txt_111700_.npy', 'newsarticles.txt_111800_.npy', 'newsarticles.txt_111900_.npy', 'newsarticles.txt_112000_.npy', 'newsarticles.txt_11200_.npy', 'newsarticles.txt_112100_.npy', 'newsarticles.txt_112200_.npy', 'newsarticles.txt_112300_.npy', 'newsarticles.txt_112400_.npy', 'newsarticles.txt_112500_.npy', 'newsarticles.txt_112600_.npy', 'newsarticles.txt_112700_.npy', 'newsarticles.txt_112800_.npy', 'newsarticles.txt_112900_.npy', 'newsarticles.txt_113000_.npy', 'newsarticles.txt_11300_.npy', 'newsarticles.txt_113100_.npy', 'newsarticles.txt_113200_.npy', 'newsarticles.txt_113300_.npy', 'newsarticles.txt_113400_.npy', 'newsarticles.txt_113500_.npy', 'newsarticles.txt_113600_.npy', 'newsarticles.txt_113700_.npy', 'newsarticles.txt_113800_.npy', 'newsarticles.txt_113900_.npy', 'newsarticles.txt_114000_.npy', 'newsarticles.txt_11400_.npy', 'newsarticles.txt_114100_.npy', 'newsarticles.txt_114200_.npy', 'newsarticles.txt_114300_.npy', 'newsarticles.txt_114400_.npy', 'newsarticles.txt_114500_.npy', 'newsarticles.txt_114600_.npy', 'newsarticles.txt_114700_.npy', 'newsarticles.txt_114800_.npy', 'newsarticles.txt_114900_.npy', 'newsarticles.txt_115000_.npy', 'newsarticles.txt_11500_.npy', 'newsarticles.txt_115100_.npy', 'newsarticles.txt_115200_.npy', 'newsarticles.txt_115300_.npy', 'newsarticles.txt_115400_.npy', 'newsarticles.txt_115500_.npy', 'newsarticles.txt_115600_.npy', 'newsarticles.txt_115700_.npy', 'newsarticles.txt_115800_.npy', 'newsarticles.txt_115900_.npy', 'newsarticles.txt_116000_.npy', 'newsarticles.txt_11600_.npy', 'newsarticles.txt_116100_.npy', 'newsarticles.txt_116200_.npy', 'newsarticles.txt_116300_.npy', 'newsarticles.txt_116400_.npy', 'newsarticles.txt_116500_.npy', 'newsarticles.txt_116600_.npy', 'newsarticles.txt_116700_.npy', 'newsarticles.txt_116800_.npy', 'newsarticles.txt_116900_.npy', 'newsarticles.txt_117000_.npy', 'newsarticles.txt_11700_.npy', 'newsarticles.txt_117100_.npy', 'newsarticles.txt_117200_.npy', 'newsarticles.txt_117300_.npy', 'newsarticles.txt_117400_.npy', 'newsarticles.txt_117500_.npy', 'newsarticles.txt_117600_.npy', 'newsarticles.txt_117700_.npy', 'newsarticles.txt_117800_.npy', 'newsarticles.txt_117900_.npy', 'newsarticles.txt_118000_.npy', 'newsarticles.txt_11800_.npy', 'newsarticles.txt_118100_.npy', 'newsarticles.txt_118200_.npy', 'newsarticles.txt_118300_.npy', 'newsarticles.txt_118400_.npy', 'newsarticles.txt_118500_.npy', 'newsarticles.txt_118600_.npy', 'newsarticles.txt_118700_.npy', 'newsarticles.txt_118800_.npy', 'newsarticles.txt_118900_.npy', 'newsarticles.txt_119000_.npy', 'newsarticles.txt_11900_.npy', 'newsarticles.txt_119100_.npy', 'newsarticles.txt_119200_.npy', 'newsarticles.txt_119300_.npy', 'newsarticles.txt_119400_.npy', 'newsarticles.txt_119500_.npy', 'newsarticles.txt_119600_.npy', 'newsarticles.txt_119700_.npy', 'newsarticles.txt_119800_.npy', 'newsarticles.txt_119900_.npy', 'newsarticles.txt_120000_.npy', 'newsarticles.txt_12000_.npy', 'newsarticles.txt_1200_.npy', 'newsarticles.txt_120100_.npy', 'newsarticles.txt_120200_.npy', 'newsarticles.txt_120300_.npy', 'newsarticles.txt_120400_.npy', 'newsarticles.txt_120500_.npy', 'newsarticles.txt_120600_.npy', 'newsarticles.txt_120700_.npy', 'newsarticles.txt_120800_.npy', 'newsarticles.txt_120900_.npy', 'newsarticles.txt_121000_.npy', 'newsarticles.txt_12100_.npy', 'newsarticles.txt_121100_.npy', 'newsarticles.txt_121200_.npy', 'newsarticles.txt_121300_.npy', 'newsarticles.txt_121400_.npy', 'newsarticles.txt_121500_.npy', 'newsarticles.txt_121600_.npy', 'newsarticles.txt_121700_.npy', 'newsarticles.txt_121800_.npy', 'newsarticles.txt_121900_.npy', 'newsarticles.txt_122000_.npy', 'newsarticles.txt_12200_.npy', 'newsarticles.txt_122100_.npy', 'newsarticles.txt_122200_.npy', 'newsarticles.txt_122300_.npy', 'newsarticles.txt_122400_.npy', 'newsarticles.txt_122500_.npy', 'newsarticles.txt_122600_.npy', 'newsarticles.txt_122700_.npy', 'newsarticles.txt_122800_.npy', 'newsarticles.txt_122900_.npy', 'newsarticles.txt_123000_.npy', 'newsarticles.txt_12300_.npy', 'newsarticles.txt_123100_.npy', 'newsarticles.txt_123200_.npy', 'newsarticles.txt_123300_.npy', 'newsarticles.txt_123400_.npy', 'newsarticles.txt_123500_.npy', 'newsarticles.txt_123600_.npy', 'newsarticles.txt_123700_.npy', 'newsarticles.txt_123800_.npy', 'newsarticles.txt_123900_.npy', 'newsarticles.txt_124000_.npy', 'newsarticles.txt_12400_.npy', 'newsarticles.txt_124100_.npy', 'newsarticles.txt_124200_.npy', 'newsarticles.txt_124300_.npy', 'newsarticles.txt_124400_.npy', 'newsarticles.txt_124500_.npy', 'newsarticles.txt_124600_.npy', 'newsarticles.txt_124700_.npy', 'newsarticles.txt_124800_.npy', 'newsarticles.txt_124900_.npy', 'newsarticles.txt_125000_.npy', 'newsarticles.txt_12500_.npy', 'newsarticles.txt_125100_.npy', 'newsarticles.txt_125200_.npy', 'newsarticles.txt_125300_.npy', 'newsarticles.txt_125400_.npy', 'newsarticles.txt_125500_.npy', 'newsarticles.txt_125600_.npy', 'newsarticles.txt_125700_.npy', 'newsarticles.txt_125800_.npy', 'newsarticles.txt_125900_.npy', 'newsarticles.txt_126000_.npy', 'newsarticles.txt_12600_.npy', 'newsarticles.txt_126100_.npy', 'newsarticles.txt_126200_.npy', 'newsarticles.txt_126300_.npy', 'newsarticles.txt_126400_.npy', 'newsarticles.txt_126500_.npy', 'newsarticles.txt_126600_.npy', 'newsarticles.txt_126700_.npy', 'newsarticles.txt_126800_.npy', 'newsarticles.txt_126900_.npy', 'newsarticles.txt_127000_.npy', 'newsarticles.txt_12700_.npy', 'newsarticles.txt_127100_.npy', 'newsarticles.txt_127200_.npy', 'newsarticles.txt_127300_.npy', 'newsarticles.txt_127400_.npy', 'newsarticles.txt_127500_.npy', 'newsarticles.txt_127600_.npy', 'newsarticles.txt_127700_.npy', 'newsarticles.txt_127800_.npy', 'newsarticles.txt_127900_.npy', 'newsarticles.txt_128000_.npy', 'newsarticles.txt_12800_.npy', 'newsarticles.txt_128100_.npy', 'newsarticles.txt_128200_.npy', 'newsarticles.txt_128300_.npy', 'newsarticles.txt_128400_.npy', 'newsarticles.txt_128500_.npy', 'newsarticles.txt_128600_.npy', 'newsarticles.txt_128700_.npy', 'newsarticles.txt_128800_.npy', 'newsarticles.txt_128900_.npy', 'newsarticles.txt_129000_.npy', 'newsarticles.txt_12900_.npy', 'newsarticles.txt_129100_.npy', 'newsarticles.txt_129200_.npy', 'newsarticles.txt_129300_.npy', 'newsarticles.txt_129400_.npy', 'newsarticles.txt_129500_.npy', 'newsarticles.txt_129600_.npy', 'newsarticles.txt_129700_.npy', 'newsarticles.txt_129800_.npy', 'newsarticles.txt_129900_.npy', 'newsarticles.txt_130000_.npy', 'newsarticles.txt_13000_.npy', 'newsarticles.txt_1300_.npy', 'newsarticles.txt_130100_.npy', 'newsarticles.txt_130200_.npy', 'newsarticles.txt_130300_.npy', 'newsarticles.txt_130400_.npy', 'newsarticles.txt_130500_.npy', 'newsarticles.txt_130600_.npy', 'newsarticles.txt_130700_.npy', 'newsarticles.txt_130800_.npy', 'newsarticles.txt_130900_.npy', 'newsarticles.txt_131000_.npy', 'newsarticles.txt_13100_.npy', 'newsarticles.txt_131100_.npy', 'newsarticles.txt_131200_.npy', 'newsarticles.txt_131300_.npy', 'newsarticles.txt_131400_.npy', 'newsarticles.txt_131500_.npy', 'newsarticles.txt_131600_.npy', 'newsarticles.txt_131700_.npy', 'newsarticles.txt_131800_.npy', 'newsarticles.txt_131900_.npy', 'newsarticles.txt_132000_.npy', 'newsarticles.txt_13200_.npy', 'newsarticles.txt_132100_.npy', 'newsarticles.txt_132200_.npy', 'newsarticles.txt_132300_.npy', 'newsarticles.txt_132400_.npy', 'newsarticles.txt_132500_.npy', 'newsarticles.txt_132600_.npy', 'newsarticles.txt_132700_.npy', 'newsarticles.txt_132800_.npy', 'newsarticles.txt_132900_.npy', 'newsarticles.txt_133000_.npy', 'newsarticles.txt_13300_.npy', 'newsarticles.txt_133100_.npy', 'newsarticles.txt_133200_.npy', 'newsarticles.txt_133300_.npy', 'newsarticles.txt_133400_.npy', 'newsarticles.txt_133500_.npy', 'newsarticles.txt_133600_.npy', 'newsarticles.txt_133700_.npy', 'newsarticles.txt_133800_.npy', 'newsarticles.txt_133900_.npy', 'newsarticles.txt_134000_.npy', 'newsarticles.txt_13400_.npy', 'newsarticles.txt_134100_.npy', 'newsarticles.txt_134200_.npy', 'newsarticles.txt_134300_.npy', 'newsarticles.txt_134400_.npy', 'newsarticles.txt_134500_.npy', 'newsarticles.txt_134600_.npy', 'newsarticles.txt_134700_.npy', 'newsarticles.txt_134800_.npy', 'newsarticles.txt_134900_.npy', 'newsarticles.txt_135000_.npy', 'newsarticles.txt_13500_.npy', 'newsarticles.txt_135100_.npy', 'newsarticles.txt_135200_.npy', 'newsarticles.txt_135300_.npy', 'newsarticles.txt_135400_.npy', 'newsarticles.txt_135500_.npy', 'newsarticles.txt_135600_.npy', 'newsarticles.txt_135700_.npy', 'newsarticles.txt_135800_.npy', 'newsarticles.txt_135900_.npy', 'newsarticles.txt_136000_.npy', 'newsarticles.txt_13600_.npy', 'newsarticles.txt_136100_.npy', 'newsarticles.txt_136200_.npy', 'newsarticles.txt_136300_.npy', 'newsarticles.txt_136400_.npy', 'newsarticles.txt_136500_.npy', 'newsarticles.txt_136600_.npy', 'newsarticles.txt_136700_.npy', 'newsarticles.txt_136800_.npy', 'newsarticles.txt_136873_.npy', 'newsarticles.txt_13700_.npy', 'newsarticles.txt_13800_.npy', 'newsarticles.txt_13900_.npy', 'newsarticles.txt_14000_.npy', 'newsarticles.txt_1400_.npy', 'newsarticles.txt_14100_.npy', 'newsarticles.txt_14200_.npy', 'newsarticles.txt_14300_.npy', 'newsarticles.txt_14400_.npy', 'newsarticles.txt_14500_.npy', 'newsarticles.txt_14600_.npy', 'newsarticles.txt_14700_.npy', 'newsarticles.txt_14800_.npy', 'newsarticles.txt_14900_.npy', 'newsarticles.txt_15000_.npy', 'newsarticles.txt_1500_.npy', 'newsarticles.txt_15100_.npy', 'newsarticles.txt_15200_.npy', 'newsarticles.txt_15300_.npy', 'newsarticles.txt_15400_.npy', 'newsarticles.txt_15500_.npy', 'newsarticles.txt_15600_.npy', 'newsarticles.txt_15700_.npy', 'newsarticles.txt_15800_.npy', 'newsarticles.txt_15900_.npy', 'newsarticles.txt_16000_.npy', 'newsarticles.txt_1600_.npy', 'newsarticles.txt_16100_.npy', 'newsarticles.txt_16200_.npy', 'newsarticles.txt_16300_.npy', 'newsarticles.txt_16400_.npy', 'newsarticles.txt_16500_.npy', 'newsarticles.txt_16600_.npy', 'newsarticles.txt_16700_.npy', 'newsarticles.txt_16800_.npy', 'newsarticles.txt_16900_.npy', 'newsarticles.txt_17000_.npy', 'newsarticles.txt_1700_.npy', 'newsarticles.txt_17100_.npy', 'newsarticles.txt_17200_.npy', 'newsarticles.txt_17300_.npy', 'newsarticles.txt_17400_.npy', 'newsarticles.txt_17500_.npy', 'newsarticles.txt_17600_.npy', 'newsarticles.txt_17700_.npy', 'newsarticles.txt_17800_.npy', 'newsarticles.txt_17900_.npy', 'newsarticles.txt_18000_.npy', 'newsarticles.txt_1800_.npy', 'newsarticles.txt_18100_.npy', 'newsarticles.txt_18200_.npy', 'newsarticles.txt_18300_.npy', 'newsarticles.txt_18400_.npy', 'newsarticles.txt_18500_.npy', 'newsarticles.txt_18600_.npy', 'newsarticles.txt_18700_.npy', 'newsarticles.txt_18800_.npy', 'newsarticles.txt_18900_.npy', 'newsarticles.txt_19000_.npy', 'newsarticles.txt_1900_.npy', 'newsarticles.txt_19100_.npy', 'newsarticles.txt_19200_.npy', 'newsarticles.txt_19300_.npy', 'newsarticles.txt_19400_.npy', 'newsarticles.txt_19500_.npy', 'newsarticles.txt_19600_.npy', 'newsarticles.txt_19700_.npy', 'newsarticles.txt_19800_.npy', 'newsarticles.txt_19900_.npy', 'newsarticles.txt_20000_.npy', 'newsarticles.txt_2000_.npy', 'newsarticles.txt_200_.npy', 'newsarticles.txt_20100_.npy', 'newsarticles.txt_20200_.npy', 'newsarticles.txt_20300_.npy', 'newsarticles.txt_20400_.npy', 'newsarticles.txt_20500_.npy', 'newsarticles.txt_20600_.npy', 'newsarticles.txt_20700_.npy', 'newsarticles.txt_20800_.npy', 'newsarticles.txt_20900_.npy', 'newsarticles.txt_21000_.npy', 'newsarticles.txt_2100_.npy', 'newsarticles.txt_21100_.npy', 'newsarticles.txt_21200_.npy', 'newsarticles.txt_21300_.npy', 'newsarticles.txt_21400_.npy', 'newsarticles.txt_21500_.npy', 'newsarticles.txt_21600_.npy', 'newsarticles.txt_21700_.npy', 'newsarticles.txt_21800_.npy', 'newsarticles.txt_21900_.npy', 'newsarticles.txt_22000_.npy', 'newsarticles.txt_2200_.npy', 'newsarticles.txt_22100_.npy', 'newsarticles.txt_22200_.npy', 'newsarticles.txt_22300_.npy', 'newsarticles.txt_22400_.npy', 'newsarticles.txt_22500_.npy', 'newsarticles.txt_22600_.npy', 'newsarticles.txt_22700_.npy', 'newsarticles.txt_22800_.npy', 'newsarticles.txt_22900_.npy', 'newsarticles.txt_23000_.npy', 'newsarticles.txt_2300_.npy', 'newsarticles.txt_23100_.npy', 'newsarticles.txt_23200_.npy', 'newsarticles.txt_23300_.npy', 'newsarticles.txt_23400_.npy', 'newsarticles.txt_23500_.npy', 'newsarticles.txt_23600_.npy', 'newsarticles.txt_23700_.npy', 'newsarticles.txt_23800_.npy', 'newsarticles.txt_23900_.npy', 'newsarticles.txt_24000_.npy', 'newsarticles.txt_2400_.npy', 'newsarticles.txt_24100_.npy', 'newsarticles.txt_24200_.npy', 'newsarticles.txt_24300_.npy', 'newsarticles.txt_24400_.npy', 'newsarticles.txt_24500_.npy', 'newsarticles.txt_24600_.npy', 'newsarticles.txt_24700_.npy', 'newsarticles.txt_24800_.npy', 'newsarticles.txt_24900_.npy', 'newsarticles.txt_25000_.npy', 'newsarticles.txt_2500_.npy', 'newsarticles.txt_25100_.npy', 'newsarticles.txt_25200_.npy', 'newsarticles.txt_25300_.npy', 'newsarticles.txt_25400_.npy', 'newsarticles.txt_25500_.npy', 'newsarticles.txt_25600_.npy', 'newsarticles.txt_25700_.npy', 'newsarticles.txt_25800_.npy', 'newsarticles.txt_25900_.npy', 'newsarticles.txt_26000_.npy', 'newsarticles.txt_2600_.npy', 'newsarticles.txt_26100_.npy', 'newsarticles.txt_26200_.npy', 'newsarticles.txt_26300_.npy', 'newsarticles.txt_26400_.npy', 'newsarticles.txt_26500_.npy', 'newsarticles.txt_26600_.npy', 'newsarticles.txt_26700_.npy', 'newsarticles.txt_26800_.npy', 'newsarticles.txt_26900_.npy', 'newsarticles.txt_27000_.npy', 'newsarticles.txt_2700_.npy', 'newsarticles.txt_27100_.npy', 'newsarticles.txt_27200_.npy', 'newsarticles.txt_27300_.npy', 'newsarticles.txt_27400_.npy', 'newsarticles.txt_27500_.npy', 'newsarticles.txt_27600_.npy', 'newsarticles.txt_27700_.npy', 'newsarticles.txt_27800_.npy', 'newsarticles.txt_27900_.npy', 'newsarticles.txt_28000_.npy', 'newsarticles.txt_2800_.npy', 'newsarticles.txt_28100_.npy', 'newsarticles.txt_28200_.npy', 'newsarticles.txt_28300_.npy', 'newsarticles.txt_28400_.npy', 'newsarticles.txt_28500_.npy', 'newsarticles.txt_28600_.npy', 'newsarticles.txt_28700_.npy', 'newsarticles.txt_28800_.npy', 'newsarticles.txt_28900_.npy', 'newsarticles.txt_29000_.npy', 'newsarticles.txt_2900_.npy', 'newsarticles.txt_29100_.npy', 'newsarticles.txt_29200_.npy', 'newsarticles.txt_29300_.npy', 'newsarticles.txt_29400_.npy', 'newsarticles.txt_29500_.npy', 'newsarticles.txt_29600_.npy', 'newsarticles.txt_29700_.npy', 'newsarticles.txt_29800_.npy', 'newsarticles.txt_29900_.npy', 'newsarticles.txt_30000_.npy', 'newsarticles.txt_3000_.npy', 'newsarticles.txt_300_.npy', 'newsarticles.txt_30100_.npy', 'newsarticles.txt_30200_.npy', 'newsarticles.txt_30300_.npy', 'newsarticles.txt_30400_.npy', 'newsarticles.txt_30500_.npy', 'newsarticles.txt_30600_.npy', 'newsarticles.txt_30700_.npy', 'newsarticles.txt_30800_.npy', 'newsarticles.txt_30900_.npy', 'newsarticles.txt_31000_.npy', 'newsarticles.txt_3100_.npy', 'newsarticles.txt_31100_.npy', 'newsarticles.txt_31200_.npy', 'newsarticles.txt_31300_.npy', 'newsarticles.txt_31400_.npy', 'newsarticles.txt_31500_.npy', 'newsarticles.txt_31600_.npy', 'newsarticles.txt_31700_.npy', 'newsarticles.txt_31800_.npy', 'newsarticles.txt_31900_.npy', 'newsarticles.txt_32000_.npy', 'newsarticles.txt_3200_.npy', 'newsarticles.txt_32100_.npy', 'newsarticles.txt_32200_.npy', 'newsarticles.txt_32300_.npy', 'newsarticles.txt_32400_.npy', 'newsarticles.txt_32500_.npy', 'newsarticles.txt_32600_.npy', 'newsarticles.txt_32700_.npy', 'newsarticles.txt_32800_.npy', 'newsarticles.txt_32900_.npy', 'newsarticles.txt_33000_.npy', 'newsarticles.txt_3300_.npy', 'newsarticles.txt_33100_.npy', 'newsarticles.txt_33200_.npy', 'newsarticles.txt_33300_.npy', 'newsarticles.txt_33400_.npy', 'newsarticles.txt_33500_.npy', 'newsarticles.txt_33600_.npy', 'newsarticles.txt_33700_.npy', 'newsarticles.txt_33800_.npy', 'newsarticles.txt_33900_.npy', 'newsarticles.txt_34000_.npy', 'newsarticles.txt_3400_.npy', 'newsarticles.txt_34100_.npy', 'newsarticles.txt_34200_.npy', 'newsarticles.txt_34300_.npy', 'newsarticles.txt_34400_.npy', 'newsarticles.txt_34500_.npy', 'newsarticles.txt_34600_.npy', 'newsarticles.txt_34700_.npy', 'newsarticles.txt_34800_.npy', 'newsarticles.txt_34900_.npy', 'newsarticles.txt_35000_.npy', 'newsarticles.txt_3500_.npy', 'newsarticles.txt_35100_.npy', 'newsarticles.txt_35200_.npy', 'newsarticles.txt_35300_.npy', 'newsarticles.txt_35400_.npy', 'newsarticles.txt_35500_.npy', 'newsarticles.txt_35600_.npy', 'newsarticles.txt_35700_.npy', 'newsarticles.txt_35800_.npy', 'newsarticles.txt_35900_.npy', 'newsarticles.txt_36000_.npy', 'newsarticles.txt_3600_.npy', 'newsarticles.txt_36100_.npy', 'newsarticles.txt_36200_.npy', 'newsarticles.txt_36300_.npy', 'newsarticles.txt_36400_.npy', 'newsarticles.txt_36500_.npy', 'newsarticles.txt_36600_.npy', 'newsarticles.txt_36700_.npy', 'newsarticles.txt_36800_.npy', 'newsarticles.txt_36900_.npy', 'newsarticles.txt_37000_.npy', 'newsarticles.txt_3700_.npy', 'newsarticles.txt_37100_.npy', 'newsarticles.txt_37200_.npy', 'newsarticles.txt_37300_.npy', 'newsarticles.txt_37400_.npy', 'newsarticles.txt_37500_.npy', 'newsarticles.txt_37600_.npy', 'newsarticles.txt_37700_.npy', 'newsarticles.txt_37800_.npy', 'newsarticles.txt_37900_.npy', 'newsarticles.txt_38000_.npy', 'newsarticles.txt_3800_.npy', 'newsarticles.txt_38100_.npy', 'newsarticles.txt_38200_.npy', 'newsarticles.txt_38300_.npy', 'newsarticles.txt_38400_.npy', 'newsarticles.txt_38500_.npy', 'newsarticles.txt_38600_.npy', 'newsarticles.txt_38700_.npy', 'newsarticles.txt_38800_.npy', 'newsarticles.txt_38900_.npy', 'newsarticles.txt_39000_.npy', 'newsarticles.txt_3900_.npy', 'newsarticles.txt_39100_.npy', 'newsarticles.txt_39200_.npy', 'newsarticles.txt_39300_.npy', 'newsarticles.txt_39400_.npy', 'newsarticles.txt_39500_.npy', 'newsarticles.txt_39600_.npy', 'newsarticles.txt_39700_.npy', 'newsarticles.txt_39800_.npy', 'newsarticles.txt_39900_.npy', 'newsarticles.txt_40000_.npy', 'newsarticles.txt_4000_.npy', 'newsarticles.txt_400_.npy', 'newsarticles.txt_40100_.npy', 'newsarticles.txt_40200_.npy', 'newsarticles.txt_40300_.npy', 'newsarticles.txt_40400_.npy', 'newsarticles.txt_40500_.npy', 'newsarticles.txt_40600_.npy', 'newsarticles.txt_40700_.npy', 'newsarticles.txt_40800_.npy', 'newsarticles.txt_40900_.npy', 'newsarticles.txt_41000_.npy', 'newsarticles.txt_4100_.npy', 'newsarticles.txt_41100_.npy', 'newsarticles.txt_41200_.npy', 'newsarticles.txt_41300_.npy', 'newsarticles.txt_41400_.npy', 'newsarticles.txt_41500_.npy', 'newsarticles.txt_41600_.npy', 'newsarticles.txt_41700_.npy', 'newsarticles.txt_41800_.npy', 'newsarticles.txt_41900_.npy', 'newsarticles.txt_42000_.npy', 'newsarticles.txt_4200_.npy', 'newsarticles.txt_42100_.npy', 'newsarticles.txt_42200_.npy', 'newsarticles.txt_42300_.npy', 'newsarticles.txt_42400_.npy', 'newsarticles.txt_42500_.npy', 'newsarticles.txt_42600_.npy', 'newsarticles.txt_42700_.npy', 'newsarticles.txt_42800_.npy', 'newsarticles.txt_42900_.npy', 'newsarticles.txt_43000_.npy', 'newsarticles.txt_4300_.npy', 'newsarticles.txt_43100_.npy', 'newsarticles.txt_43200_.npy', 'newsarticles.txt_43300_.npy', 'newsarticles.txt_43400_.npy', 'newsarticles.txt_43500_.npy', 'newsarticles.txt_43600_.npy', 'newsarticles.txt_43700_.npy', 'newsarticles.txt_43800_.npy', 'newsarticles.txt_43900_.npy', 'newsarticles.txt_44000_.npy', 'newsarticles.txt_4400_.npy', 'newsarticles.txt_44100_.npy', 'newsarticles.txt_44200_.npy', 'newsarticles.txt_44300_.npy', 'newsarticles.txt_44400_.npy', 'newsarticles.txt_44500_.npy', 'newsarticles.txt_44600_.npy', 'newsarticles.txt_44700_.npy', 'newsarticles.txt_44800_.npy', 'newsarticles.txt_44900_.npy', 'newsarticles.txt_45000_.npy', 'newsarticles.txt_4500_.npy', 'newsarticles.txt_45100_.npy', 'newsarticles.txt_45200_.npy', 'newsarticles.txt_45300_.npy', 'newsarticles.txt_45400_.npy', 'newsarticles.txt_45500_.npy', 'newsarticles.txt_45600_.npy', 'newsarticles.txt_45700_.npy', 'newsarticles.txt_45800_.npy', 'newsarticles.txt_45900_.npy', 'newsarticles.txt_46000_.npy', 'newsarticles.txt_4600_.npy', 'newsarticles.txt_46100_.npy', 'newsarticles.txt_46200_.npy', 'newsarticles.txt_46300_.npy', 'newsarticles.txt_46400_.npy', 'newsarticles.txt_46500_.npy', 'newsarticles.txt_46600_.npy', 'newsarticles.txt_46700_.npy', 'newsarticles.txt_46800_.npy', 'newsarticles.txt_46900_.npy', 'newsarticles.txt_47000_.npy', 'newsarticles.txt_4700_.npy', 'newsarticles.txt_47100_.npy', 'newsarticles.txt_47200_.npy', 'newsarticles.txt_47300_.npy', 'newsarticles.txt_47400_.npy', 'newsarticles.txt_47500_.npy', 'newsarticles.txt_47600_.npy', 'newsarticles.txt_47700_.npy', 'newsarticles.txt_47800_.npy', 'newsarticles.txt_47900_.npy', 'newsarticles.txt_48000_.npy', 'newsarticles.txt_4800_.npy', 'newsarticles.txt_48100_.npy', 'newsarticles.txt_48200_.npy', 'newsarticles.txt_48300_.npy', 'newsarticles.txt_48400_.npy', 'newsarticles.txt_48500_.npy', 'newsarticles.txt_48600_.npy', 'newsarticles.txt_48700_.npy', 'newsarticles.txt_48800_.npy', 'newsarticles.txt_48900_.npy', 'newsarticles.txt_49000_.npy', 'newsarticles.txt_4900_.npy', 'newsarticles.txt_49100_.npy', 'newsarticles.txt_49200_.npy', 'newsarticles.txt_49300_.npy', 'newsarticles.txt_49400_.npy', 'newsarticles.txt_49500_.npy', 'newsarticles.txt_49600_.npy', 'newsarticles.txt_49700_.npy', 'newsarticles.txt_49800_.npy', 'newsarticles.txt_49900_.npy', 'newsarticles.txt_50000_.npy', 'newsarticles.txt_5000_.npy', 'newsarticles.txt_500_.npy', 'newsarticles.txt_50100_.npy', 'newsarticles.txt_50200_.npy', 'newsarticles.txt_50300_.npy', 'newsarticles.txt_50400_.npy', 'newsarticles.txt_50500_.npy', 'newsarticles.txt_50600_.npy', 'newsarticles.txt_50700_.npy', 'newsarticles.txt_50800_.npy', 'newsarticles.txt_50900_.npy', 'newsarticles.txt_51000_.npy', 'newsarticles.txt_5100_.npy', 'newsarticles.txt_51100_.npy', 'newsarticles.txt_51200_.npy', 'newsarticles.txt_51300_.npy', 'newsarticles.txt_51400_.npy', 'newsarticles.txt_51500_.npy', 'newsarticles.txt_51600_.npy', 'newsarticles.txt_51700_.npy', 'newsarticles.txt_51800_.npy', 'newsarticles.txt_51900_.npy', 'newsarticles.txt_52000_.npy', 'newsarticles.txt_5200_.npy', 'newsarticles.txt_52100_.npy', 'newsarticles.txt_52200_.npy', 'newsarticles.txt_52300_.npy', 'newsarticles.txt_52400_.npy', 'newsarticles.txt_52500_.npy', 'newsarticles.txt_52600_.npy', 'newsarticles.txt_52700_.npy', 'newsarticles.txt_52800_.npy', 'newsarticles.txt_52900_.npy', 'newsarticles.txt_53000_.npy', 'newsarticles.txt_5300_.npy', 'newsarticles.txt_53100_.npy', 'newsarticles.txt_53200_.npy', 'newsarticles.txt_53300_.npy', 'newsarticles.txt_53400_.npy', 'newsarticles.txt_53500_.npy', 'newsarticles.txt_53600_.npy', 'newsarticles.txt_53700_.npy', 'newsarticles.txt_53800_.npy', 'newsarticles.txt_53900_.npy', 'newsarticles.txt_54000_.npy', 'newsarticles.txt_5400_.npy', 'newsarticles.txt_54100_.npy', 'newsarticles.txt_54200_.npy', 'newsarticles.txt_54300_.npy', 'newsarticles.txt_54400_.npy', 'newsarticles.txt_54500_.npy', 'newsarticles.txt_54600_.npy', 'newsarticles.txt_54700_.npy', 'newsarticles.txt_54800_.npy', 'newsarticles.txt_54900_.npy', 'newsarticles.txt_55000_.npy', 'newsarticles.txt_5500_.npy', 'newsarticles.txt_55100_.npy', 'newsarticles.txt_55200_.npy', 'newsarticles.txt_55300_.npy', 'newsarticles.txt_55400_.npy', 'newsarticles.txt_55500_.npy', 'newsarticles.txt_55600_.npy', 'newsarticles.txt_55700_.npy', 'newsarticles.txt_55800_.npy', 'newsarticles.txt_55900_.npy', 'newsarticles.txt_56000_.npy', 'newsarticles.txt_5600_.npy', 'newsarticles.txt_56100_.npy', 'newsarticles.txt_56200_.npy', 'newsarticles.txt_56300_.npy', 'newsarticles.txt_56400_.npy', 'newsarticles.txt_56500_.npy', 'newsarticles.txt_56600_.npy', 'newsarticles.txt_56700_.npy', 'newsarticles.txt_56800_.npy', 'newsarticles.txt_56900_.npy', 'newsarticles.txt_57000_.npy', 'newsarticles.txt_5700_.npy', 'newsarticles.txt_57100_.npy', 'newsarticles.txt_57200_.npy', 'newsarticles.txt_57300_.npy', 'newsarticles.txt_57400_.npy', 'newsarticles.txt_57500_.npy', 'newsarticles.txt_57600_.npy', 'newsarticles.txt_57700_.npy', 'newsarticles.txt_57800_.npy', 'newsarticles.txt_57900_.npy', 'newsarticles.txt_58000_.npy', 'newsarticles.txt_5800_.npy', 'newsarticles.txt_58100_.npy', 'newsarticles.txt_58200_.npy', 'newsarticles.txt_58300_.npy', 'newsarticles.txt_58400_.npy', 'newsarticles.txt_58500_.npy', 'newsarticles.txt_58600_.npy', 'newsarticles.txt_58700_.npy', 'newsarticles.txt_58800_.npy', 'newsarticles.txt_58900_.npy', 'newsarticles.txt_59000_.npy', 'newsarticles.txt_5900_.npy', 'newsarticles.txt_59100_.npy', 'newsarticles.txt_59200_.npy', 'newsarticles.txt_59300_.npy', 'newsarticles.txt_59400_.npy', 'newsarticles.txt_59500_.npy', 'newsarticles.txt_59600_.npy', 'newsarticles.txt_59700_.npy', 'newsarticles.txt_59800_.npy', 'newsarticles.txt_59900_.npy', 'newsarticles.txt_60000_.npy', 'newsarticles.txt_6000_.npy', 'newsarticles.txt_600_.npy', 'newsarticles.txt_60100_.npy', 'newsarticles.txt_60200_.npy', 'newsarticles.txt_60300_.npy', 'newsarticles.txt_60400_.npy', 'newsarticles.txt_60500_.npy', 'newsarticles.txt_60600_.npy', 'newsarticles.txt_60700_.npy', 'newsarticles.txt_60800_.npy', 'newsarticles.txt_60900_.npy', 'newsarticles.txt_61000_.npy', 'newsarticles.txt_6100_.npy', 'newsarticles.txt_61100_.npy', 'newsarticles.txt_61200_.npy', 'newsarticles.txt_61300_.npy', 'newsarticles.txt_61400_.npy', 'newsarticles.txt_61500_.npy', 'newsarticles.txt_61600_.npy', 'newsarticles.txt_61700_.npy', 'newsarticles.txt_61800_.npy', 'newsarticles.txt_61900_.npy', 'newsarticles.txt_62000_.npy', 'newsarticles.txt_6200_.npy', 'newsarticles.txt_62100_.npy', 'newsarticles.txt_62200_.npy', 'newsarticles.txt_62300_.npy', 'newsarticles.txt_62400_.npy', 'newsarticles.txt_62500_.npy', 'newsarticles.txt_62600_.npy', 'newsarticles.txt_62700_.npy', 'newsarticles.txt_62800_.npy', 'newsarticles.txt_62900_.npy', 'newsarticles.txt_63000_.npy', 'newsarticles.txt_6300_.npy', 'newsarticles.txt_63100_.npy', 'newsarticles.txt_63200_.npy', 'newsarticles.txt_63300_.npy', 'newsarticles.txt_63400_.npy', 'newsarticles.txt_63500_.npy', 'newsarticles.txt_63600_.npy', 'newsarticles.txt_63700_.npy', 'newsarticles.txt_63800_.npy', 'newsarticles.txt_63900_.npy', 'newsarticles.txt_64000_.npy', 'newsarticles.txt_6400_.npy', 'newsarticles.txt_64100_.npy', 'newsarticles.txt_64200_.npy', 'newsarticles.txt_64300_.npy', 'newsarticles.txt_64400_.npy', 'newsarticles.txt_64500_.npy', 'newsarticles.txt_64600_.npy', 'newsarticles.txt_64700_.npy', 'newsarticles.txt_64800_.npy', 'newsarticles.txt_64900_.npy', 'newsarticles.txt_65000_.npy', 'newsarticles.txt_6500_.npy', 'newsarticles.txt_65100_.npy', 'newsarticles.txt_65200_.npy', 'newsarticles.txt_65300_.npy', 'newsarticles.txt_65400_.npy', 'newsarticles.txt_65500_.npy', 'newsarticles.txt_65600_.npy', 'newsarticles.txt_65700_.npy', 'newsarticles.txt_65800_.npy', 'newsarticles.txt_65900_.npy', 'newsarticles.txt_66000_.npy', 'newsarticles.txt_6600_.npy', 'newsarticles.txt_66100_.npy', 'newsarticles.txt_66200_.npy', 'newsarticles.txt_66300_.npy', 'newsarticles.txt_66400_.npy', 'newsarticles.txt_66500_.npy', 'newsarticles.txt_66600_.npy', 'newsarticles.txt_66700_.npy', 'newsarticles.txt_66800_.npy', 'newsarticles.txt_66900_.npy', 'newsarticles.txt_67000_.npy', 'newsarticles.txt_6700_.npy', 'newsarticles.txt_67100_.npy', 'newsarticles.txt_67200_.npy', 'newsarticles.txt_67300_.npy', 'newsarticles.txt_67400_.npy', 'newsarticles.txt_67500_.npy', 'newsarticles.txt_67600_.npy', 'newsarticles.txt_67700_.npy', 'newsarticles.txt_67800_.npy', 'newsarticles.txt_67900_.npy', 'newsarticles.txt_68000_.npy', 'newsarticles.txt_6800_.npy', 'newsarticles.txt_68100_.npy', 'newsarticles.txt_68200_.npy', 'newsarticles.txt_68300_.npy', 'newsarticles.txt_68400_.npy', 'newsarticles.txt_68500_.npy', 'newsarticles.txt_68600_.npy', 'newsarticles.txt_68700_.npy', 'newsarticles.txt_68800_.npy', 'newsarticles.txt_68900_.npy', 'newsarticles.txt_69000_.npy', 'newsarticles.txt_6900_.npy', 'newsarticles.txt_69100_.npy', 'newsarticles.txt_69200_.npy', 'newsarticles.txt_69300_.npy', 'newsarticles.txt_69400_.npy', 'newsarticles.txt_69500_.npy', 'newsarticles.txt_69600_.npy', 'newsarticles.txt_69700_.npy', 'newsarticles.txt_69800_.npy', 'newsarticles.txt_69900_.npy', 'newsarticles.txt_70000_.npy', 'newsarticles.txt_7000_.npy', 'newsarticles.txt_700_.npy', 'newsarticles.txt_70100_.npy', 'newsarticles.txt_70200_.npy', 'newsarticles.txt_70300_.npy', 'newsarticles.txt_70400_.npy', 'newsarticles.txt_70500_.npy', 'newsarticles.txt_70600_.npy', 'newsarticles.txt_70700_.npy', 'newsarticles.txt_70800_.npy', 'newsarticles.txt_70900_.npy', 'newsarticles.txt_71000_.npy', 'newsarticles.txt_7100_.npy', 'newsarticles.txt_71100_.npy', 'newsarticles.txt_71200_.npy', 'newsarticles.txt_71300_.npy', 'newsarticles.txt_71400_.npy', 'newsarticles.txt_71500_.npy', 'newsarticles.txt_71600_.npy', 'newsarticles.txt_71700_.npy', 'newsarticles.txt_71800_.npy', 'newsarticles.txt_71900_.npy', 'newsarticles.txt_72000_.npy', 'newsarticles.txt_7200_.npy', 'newsarticles.txt_72100_.npy', 'newsarticles.txt_72200_.npy', 'newsarticles.txt_72300_.npy', 'newsarticles.txt_72400_.npy', 'newsarticles.txt_72500_.npy', 'newsarticles.txt_72600_.npy', 'newsarticles.txt_72700_.npy', 'newsarticles.txt_72800_.npy', 'newsarticles.txt_72900_.npy', 'newsarticles.txt_73000_.npy', 'newsarticles.txt_7300_.npy', 'newsarticles.txt_73100_.npy', 'newsarticles.txt_73200_.npy', 'newsarticles.txt_73300_.npy', 'newsarticles.txt_73400_.npy', 'newsarticles.txt_73500_.npy', 'newsarticles.txt_73600_.npy', 'newsarticles.txt_73700_.npy', 'newsarticles.txt_73800_.npy', 'newsarticles.txt_73900_.npy', 'newsarticles.txt_74000_.npy', 'newsarticles.txt_7400_.npy', 'newsarticles.txt_74100_.npy', 'newsarticles.txt_74200_.npy', 'newsarticles.txt_74300_.npy', 'newsarticles.txt_74400_.npy', 'newsarticles.txt_74500_.npy', 'newsarticles.txt_74600_.npy', 'newsarticles.txt_74700_.npy', 'newsarticles.txt_74800_.npy', 'newsarticles.txt_74900_.npy', 'newsarticles.txt_75000_.npy', 'newsarticles.txt_7500_.npy', 'newsarticles.txt_75100_.npy', 'newsarticles.txt_75200_.npy', 'newsarticles.txt_75300_.npy', 'newsarticles.txt_75400_.npy', 'newsarticles.txt_75500_.npy', 'newsarticles.txt_75600_.npy', 'newsarticles.txt_75700_.npy', 'newsarticles.txt_75800_.npy', 'newsarticles.txt_75900_.npy', 'newsarticles.txt_76000_.npy', 'newsarticles.txt_7600_.npy', 'newsarticles.txt_76100_.npy', 'newsarticles.txt_76200_.npy', 'newsarticles.txt_76300_.npy', 'newsarticles.txt_76400_.npy', 'newsarticles.txt_76500_.npy', 'newsarticles.txt_76600_.npy', 'newsarticles.txt_76700_.npy', 'newsarticles.txt_76800_.npy', 'newsarticles.txt_76900_.npy', 'newsarticles.txt_77000_.npy', 'newsarticles.txt_7700_.npy', 'newsarticles.txt_77100_.npy', 'newsarticles.txt_77200_.npy', 'newsarticles.txt_77300_.npy', 'newsarticles.txt_77400_.npy', 'newsarticles.txt_77500_.npy', 'newsarticles.txt_77600_.npy', 'newsarticles.txt_77700_.npy', 'newsarticles.txt_77800_.npy', 'newsarticles.txt_77900_.npy', 'newsarticles.txt_78000_.npy', 'newsarticles.txt_7800_.npy', 'newsarticles.txt_78100_.npy', 'newsarticles.txt_78200_.npy', 'newsarticles.txt_78300_.npy', 'newsarticles.txt_78400_.npy', 'newsarticles.txt_78500_.npy', 'newsarticles.txt_78600_.npy', 'newsarticles.txt_78700_.npy', 'newsarticles.txt_78800_.npy', 'newsarticles.txt_78900_.npy', 'newsarticles.txt_79000_.npy', 'newsarticles.txt_7900_.npy', 'newsarticles.txt_79100_.npy', 'newsarticles.txt_79200_.npy', 'newsarticles.txt_79300_.npy', 'newsarticles.txt_79400_.npy', 'newsarticles.txt_79500_.npy', 'newsarticles.txt_79600_.npy', 'newsarticles.txt_79700_.npy', 'newsarticles.txt_79800_.npy', 'newsarticles.txt_79900_.npy', 'newsarticles.txt_80000_.npy', 'newsarticles.txt_8000_.npy', 'newsarticles.txt_800_.npy', 'newsarticles.txt_80100_.npy', 'newsarticles.txt_80200_.npy', 'newsarticles.txt_80300_.npy', 'newsarticles.txt_80400_.npy', 'newsarticles.txt_80500_.npy', 'newsarticles.txt_80600_.npy', 'newsarticles.txt_80700_.npy', 'newsarticles.txt_80800_.npy', 'newsarticles.txt_80900_.npy', 'newsarticles.txt_81000_.npy', 'newsarticles.txt_8100_.npy', 'newsarticles.txt_81100_.npy', 'newsarticles.txt_81200_.npy', 'newsarticles.txt_81300_.npy', 'newsarticles.txt_81400_.npy', 'newsarticles.txt_81500_.npy', 'newsarticles.txt_81600_.npy', 'newsarticles.txt_81700_.npy', 'newsarticles.txt_81800_.npy', 'newsarticles.txt_81900_.npy', 'newsarticles.txt_82000_.npy', 'newsarticles.txt_8200_.npy', 'newsarticles.txt_82100_.npy', 'newsarticles.txt_82200_.npy', 'newsarticles.txt_82300_.npy', 'newsarticles.txt_82400_.npy', 'newsarticles.txt_82500_.npy', 'newsarticles.txt_82600_.npy', 'newsarticles.txt_82700_.npy', 'newsarticles.txt_82800_.npy', 'newsarticles.txt_82900_.npy', 'newsarticles.txt_83000_.npy', 'newsarticles.txt_8300_.npy', 'newsarticles.txt_83100_.npy', 'newsarticles.txt_83200_.npy', 'newsarticles.txt_83300_.npy', 'newsarticles.txt_83400_.npy', 'newsarticles.txt_83500_.npy', 'newsarticles.txt_83600_.npy', 'newsarticles.txt_83700_.npy', 'newsarticles.txt_83800_.npy', 'newsarticles.txt_83900_.npy', 'newsarticles.txt_84000_.npy', 'newsarticles.txt_8400_.npy', 'newsarticles.txt_84100_.npy', 'newsarticles.txt_84200_.npy', 'newsarticles.txt_84300_.npy', 'newsarticles.txt_84400_.npy', 'newsarticles.txt_84500_.npy', 'newsarticles.txt_84600_.npy', 'newsarticles.txt_84700_.npy', 'newsarticles.txt_84800_.npy', 'newsarticles.txt_84900_.npy', 'newsarticles.txt_85000_.npy', 'newsarticles.txt_8500_.npy', 'newsarticles.txt_85100_.npy', 'newsarticles.txt_85200_.npy', 'newsarticles.txt_85300_.npy', 'newsarticles.txt_85400_.npy', 'newsarticles.txt_85500_.npy', 'newsarticles.txt_85600_.npy', 'newsarticles.txt_85700_.npy', 'newsarticles.txt_85800_.npy', 'newsarticles.txt_85900_.npy', 'newsarticles.txt_86000_.npy', 'newsarticles.txt_8600_.npy', 'newsarticles.txt_86100_.npy', 'newsarticles.txt_86200_.npy', 'newsarticles.txt_86300_.npy', 'newsarticles.txt_86400_.npy', 'newsarticles.txt_86500_.npy', 'newsarticles.txt_86600_.npy', 'newsarticles.txt_86700_.npy', 'newsarticles.txt_86800_.npy', 'newsarticles.txt_86900_.npy', 'newsarticles.txt_87000_.npy', 'newsarticles.txt_8700_.npy', 'newsarticles.txt_87100_.npy', 'newsarticles.txt_87200_.npy', 'newsarticles.txt_87300_.npy', 'newsarticles.txt_87400_.npy', 'newsarticles.txt_87500_.npy', 'newsarticles.txt_87600_.npy', 'newsarticles.txt_87700_.npy', 'newsarticles.txt_87800_.npy', 'newsarticles.txt_87900_.npy', 'newsarticles.txt_88000_.npy', 'newsarticles.txt_8800_.npy', 'newsarticles.txt_88100_.npy', 'newsarticles.txt_88200_.npy', 'newsarticles.txt_88300_.npy', 'newsarticles.txt_88400_.npy', 'newsarticles.txt_88500_.npy', 'newsarticles.txt_88600_.npy', 'newsarticles.txt_88700_.npy', 'newsarticles.txt_88800_.npy', 'newsarticles.txt_88900_.npy', 'newsarticles.txt_89000_.npy', 'newsarticles.txt_8900_.npy', 'newsarticles.txt_89100_.npy', 'newsarticles.txt_89200_.npy', 'newsarticles.txt_89300_.npy', 'newsarticles.txt_89400_.npy', 'newsarticles.txt_89500_.npy', 'newsarticles.txt_89600_.npy', 'newsarticles.txt_89700_.npy', 'newsarticles.txt_89800_.npy', 'newsarticles.txt_89900_.npy', 'newsarticles.txt_90000_.npy', 'newsarticles.txt_9000_.npy', 'newsarticles.txt_900_.npy', 'newsarticles.txt_90100_.npy', 'newsarticles.txt_90200_.npy', 'newsarticles.txt_90300_.npy', 'newsarticles.txt_90400_.npy', 'newsarticles.txt_90500_.npy', 'newsarticles.txt_90600_.npy', 'newsarticles.txt_90700_.npy', 'newsarticles.txt_90800_.npy', 'newsarticles.txt_90900_.npy', 'newsarticles.txt_91000_.npy', 'newsarticles.txt_9100_.npy', 'newsarticles.txt_91100_.npy', 'newsarticles.txt_91200_.npy', 'newsarticles.txt_91300_.npy', 'newsarticles.txt_91400_.npy', 'newsarticles.txt_91500_.npy', 'newsarticles.txt_91600_.npy', 'newsarticles.txt_91700_.npy', 'newsarticles.txt_91800_.npy', 'newsarticles.txt_91900_.npy', 'newsarticles.txt_92000_.npy', 'newsarticles.txt_9200_.npy', 'newsarticles.txt_92100_.npy', 'newsarticles.txt_92200_.npy', 'newsarticles.txt_92300_.npy', 'newsarticles.txt_92400_.npy', 'newsarticles.txt_92500_.npy', 'newsarticles.txt_92600_.npy', 'newsarticles.txt_92700_.npy', 'newsarticles.txt_92800_.npy', 'newsarticles.txt_92900_.npy', 'newsarticles.txt_93000_.npy', 'newsarticles.txt_9300_.npy', 'newsarticles.txt_93100_.npy', 'newsarticles.txt_93200_.npy', 'newsarticles.txt_93300_.npy', 'newsarticles.txt_93400_.npy', 'newsarticles.txt_93500_.npy', 'newsarticles.txt_93600_.npy', 'newsarticles.txt_93700_.npy', 'newsarticles.txt_93800_.npy', 'newsarticles.txt_93900_.npy', 'newsarticles.txt_94000_.npy', 'newsarticles.txt_9400_.npy', 'newsarticles.txt_94100_.npy', 'newsarticles.txt_94200_.npy', 'newsarticles.txt_94300_.npy', 'newsarticles.txt_94400_.npy', 'newsarticles.txt_94500_.npy', 'newsarticles.txt_94600_.npy', 'newsarticles.txt_94700_.npy', 'newsarticles.txt_94800_.npy', 'newsarticles.txt_94900_.npy', 'newsarticles.txt_95000_.npy', 'newsarticles.txt_9500_.npy', 'newsarticles.txt_95100_.npy', 'newsarticles.txt_95200_.npy', 'newsarticles.txt_95300_.npy', 'newsarticles.txt_95400_.npy', 'newsarticles.txt_95500_.npy', 'newsarticles.txt_95600_.npy', 'newsarticles.txt_95700_.npy', 'newsarticles.txt_95800_.npy', 'newsarticles.txt_95900_.npy', 'newsarticles.txt_96000_.npy', 'newsarticles.txt_9600_.npy', 'newsarticles.txt_96100_.npy', 'newsarticles.txt_96200_.npy', 'newsarticles.txt_96300_.npy', 'newsarticles.txt_96400_.npy', 'newsarticles.txt_96500_.npy', 'newsarticles.txt_96600_.npy', 'newsarticles.txt_96700_.npy', 'newsarticles.txt_96800_.npy', 'newsarticles.txt_96900_.npy', 'newsarticles.txt_97000_.npy', 'newsarticles.txt_9700_.npy', 'newsarticles.txt_97100_.npy', 'newsarticles.txt_97200_.npy', 'newsarticles.txt_97300_.npy', 'newsarticles.txt_97400_.npy', 'newsarticles.txt_97500_.npy', 'newsarticles.txt_97600_.npy', 'newsarticles.txt_97700_.npy', 'newsarticles.txt_97800_.npy', 'newsarticles.txt_97900_.npy', 'newsarticles.txt_98000_.npy', 'newsarticles.txt_9800_.npy', 'newsarticles.txt_98100_.npy', 'newsarticles.txt_98200_.npy', 'newsarticles.txt_98300_.npy', 'newsarticles.txt_98400_.npy', 'newsarticles.txt_98500_.npy', 'newsarticles.txt_98600_.npy', 'newsarticles.txt_98700_.npy', 'newsarticles.txt_98800_.npy', 'newsarticles.txt_98900_.npy', 'newsarticles.txt_99000_.npy', 'newsarticles.txt_9900_.npy', 'newsarticles.txt_99100_.npy', 'newsarticles.txt_99200_.npy', 'newsarticles.txt_99300_.npy', 'newsarticles.txt_99400_.npy', 'newsarticles.txt_99500_.npy', 'newsarticles.txt_99600_.npy', 'newsarticles.txt_99700_.npy', 'newsarticles.txt_99800_.npy', 'newsarticles.txt_99900_.npy', 'txtData.txt_1000_.npy', 'txtData.txt_100_.npy', 'txtData.txt_1100_.npy', 'txtData.txt_1200_.npy', 'txtData.txt_1300_.npy', 'txtData.txt_1400_.npy', 'txtData.txt_1500_.npy', 'txtData.txt_1600_.npy', 'txtData.txt_1700_.npy', 'txtData.txt_1800_.npy', 'txtData.txt_1900_.npy', 'txtData.txt_2000_.npy', 'txtData.txt_200_.npy', 'txtData.txt_2100_.npy', 'txtData.txt_2200_.npy', 'txtData.txt_2300_.npy', 'txtData.txt_2386_.npy', 'txtData.txt_300_.npy', 'txtData.txt_400_.npy', 'txtData.txt_500_.npy', 'txtData.txt_600_.npy', 'txtData.txt_700_.npy', 'txtData.txt_800_.npy', 'txtData.txt_900_.npy']\n"
     ]
    }
   ],
   "source": [
    "PATH_TO_NPY_DATA = \"/content/drive/MyDrive/IDL Group Project/Dataset preparation/filtered_datasets_v2/NP\"\n",
    "NPY_FILENAMES = sorted(get_files_in_directory(PATH_TO_NPY_DATA))\n",
    "print(NPY_FILENAMES)"
   ]
  },
  {
   "cell_type": "markdown",
   "metadata": {
    "id": "hH6wKZ9t4FUh"
   },
   "source": [
    "### Train & Test data splitting"
   ]
  },
  {
   "cell_type": "code",
   "execution_count": null,
   "metadata": {
    "id": "RkStY82V1nMg"
   },
   "outputs": [],
   "source": [
    "\n",
    "\n",
    "#  Set a seed for reproducibility\n",
    "random.seed(42)\n",
    "\n",
    "# Shuffle the list of file names\n",
    "random.shuffle(NPY_FILENAMES)\n",
    "\n",
    "# Define the split ratio (e.g., 80% training, 20% testing)\n",
    "split_ratio = 0.8\n",
    "split_index = int(len(NPY_FILENAMES) * split_ratio)\n",
    "\n",
    "# Split the files into training and testing sets\n",
    "train_files = NPY_FILENAMES[:split_index]\n",
    "test_files = NPY_FILENAMES[split_index:]\n",
    "train_files = [os.path.join(PATH_TO_NPY_DATA, i) for i in train_files]\n",
    "test_files = [os.path.join(PATH_TO_NPY_DATA, i) for i in test_files]"
   ]
  },
  {
   "cell_type": "markdown",
   "metadata": {
    "id": "7SUL781B4JUO"
   },
   "source": [
    "### Creating the Datasets and Dataloaders Objects."
   ]
  },
  {
   "cell_type": "code",
   "execution_count": null,
   "metadata": {
    "id": "grlM1G9khhG_"
   },
   "outputs": [],
   "source": [
    "#setting N-gram\n",
    "N = 7"
   ]
  },
  {
   "cell_type": "code",
   "execution_count": null,
   "metadata": {
    "id": "Uwl7LZ3Gr2Aj"
   },
   "outputs": [],
   "source": [
    "class N_gramDataset(Dataset):\n",
    "    def __init__(self, data_filepaths_list,\n",
    "                 sos_idx=SOS_IDX, eos_idx=EOS_IDX,\n",
    "                 sequence_length=100, max_output_rows=100,\n",
    "                 shuffle=False):\n",
    "        \"\"\"\n",
    "        Initializes the N-gram dataset object.\n",
    "        :param data_filepaths_list: A list of filepaths to the data files.\n",
    "        :param sos_idx: Index for the start of sequence token.\n",
    "        :param eos_idx: Index for the end of sequence token.\n",
    "        :param sequence_length: The length of the sequences to be generated.\n",
    "        :param max_output_rows: Maximum number of rows to output in each batch.\n",
    "        :param shuffle: Boolean indicating whether to shuffle the sequences.\n",
    "        \"\"\"\n",
    "        self.data_filepaths_list = data_filepaths_list\n",
    "        self.length = len(data_filepaths_list)\n",
    "        self.sos_idx, self.eos_idx = sos_idx, eos_idx\n",
    "        self.shuffle = shuffle\n",
    "        self.sequence_length = sequence_length\n",
    "        self.max_output_rows = max_output_rows\n",
    "\n",
    "    def __len__(self):\n",
    "        \"\"\"\n",
    "        Returns the length of the dataset (number of files).\n",
    "        \"\"\"\n",
    "        return self.length\n",
    "\n",
    "    def __getitem__(self, idx):\n",
    "        \"\"\"\n",
    "        Retrieves a batch of sequences from the dataset.\n",
    "        :param idx: Index of the data file to load.\n",
    "        :return: Tuple of input sequences and target sequences for training.\n",
    "        \"\"\"\n",
    "        # Load sequences from the file at the given index\n",
    "        filepath = self.data_filepaths_list[idx]\n",
    "        sequences = np.load(filepath, allow_pickle=True)\n",
    "\n",
    "        # Shuffle the sequences if required\n",
    "        if self.shuffle:\n",
    "            sequences = np.random.permutation(sequences)\n",
    "\n",
    "        new_sequences = []\n",
    "\n",
    "        # Process each sequence in the file\n",
    "        for article_id, article_ in enumerate(sequences):\n",
    "            # Append start and end tokens to each sequence\n",
    "            new_sequences.append(torch.LongTensor(np.append(np.append(np.array([self.sos_idx]), article_), np.array([self.eos_idx]))))\n",
    "\n",
    "        # Combine all sequences into a single tensor\n",
    "        new_sequences = torch.cat(new_sequences)\n",
    "\n",
    "        # Calculate the number of batches based on sequence length\n",
    "        num_batches = len(new_sequences) // (self.sequence_length + 1)\n",
    "\n",
    "        # Initialize tensor for storing batches\n",
    "        X = torch.zeros((num_batches, self.sequence_length + 1), dtype=torch.long)\n",
    "\n",
    "        # Fill the tensor with sequences\n",
    "        for batch_idx in range(num_batches):\n",
    "            start_idx = batch_idx * self.sequence_length\n",
    "            end_idx = start_idx + self.sequence_length + 1\n",
    "            X[batch_idx, :] = new_sequences[start_idx:end_idx]\n",
    "\n",
    "        # Return the input and target sequences, limited by max_output_rows\n",
    "        return X[:self.max_output_rows, :-1], X[:self.max_output_rows, 1:]\n",
    "\n",
    "\n",
    "# Create datasets and dataloaders\n",
    "train_dataset = N_gramDataset(data_filepaths_list= train_files,sequence_length=N,max_output_rows=28, shuffle = True)\n",
    "val_dataset = N_gramDataset(data_filepaths_list= test_files,sequence_length=N, shuffle = False)\n",
    "\n",
    "train_loader = DataLoader(train_dataset, batch_size=1, shuffle=True)\n",
    "val_loader = DataLoader(val_dataset, batch_size=1, shuffle=False)\n"
   ]
  },
  {
   "cell_type": "code",
   "execution_count": null,
   "metadata": {
    "colab": {
     "base_uri": "https://localhost:8080/"
    },
    "id": "RmSapDoJWbxS",
    "outputId": "bc038242-db6c-46b7-c445-47b19833a6ae"
   },
   "outputs": [
    {
     "name": "stdout",
     "output_type": "stream",
     "text": [
      "torch.Size([1, 28, 7]) torch.Size([1, 28, 7])\n"
     ]
    }
   ],
   "source": [
    "#check the shapes of the loade dataset\n",
    "for X__, y___ in train_loader:\n",
    "  print(X__.shape, y___.shape)\n",
    "  break"
   ]
  },
  {
   "cell_type": "code",
   "execution_count": null,
   "metadata": {
    "colab": {
     "base_uri": "https://localhost:8080/"
    },
    "id": "2OkG1IiVB0_4",
    "outputId": "d31a5af1-d0a8-493e-a63c-b5def8a44195"
   },
   "outputs": [
    {
     "name": "stdout",
     "output_type": "stream",
     "text": [
      "tensor([    2, 11976,  4712,  4828,     3,  1477,   841]) tensor([11976,  4712,  4828,     3,  1477,   841, 13124])\n"
     ]
    }
   ],
   "source": [
    "print(X__[0][5], y___[0][5])"
   ]
  },
  {
   "cell_type": "code",
   "execution_count": null,
   "metadata": {
    "id": "wJ2JFLJRfm2q"
   },
   "outputs": [],
   "source": [
    "# del model\n",
    "torch.cuda.empty_cache()"
   ]
  },
  {
   "cell_type": "markdown",
   "metadata": {
    "id": "Wo4ivUs64SXa"
   },
   "source": [
    "### Defining the Model."
   ]
  },
  {
   "cell_type": "code",
   "execution_count": null,
   "metadata": {
    "id": "SPqLNaVqlzkj"
   },
   "outputs": [],
   "source": [
    "class BiLSTM_N_gramModel(nn.Module):\n",
    "    def __init__(self, vocab_size, embedding_dim, hidden_size):\n",
    "        \"\"\"\n",
    "        Initializes the BiLSTM N-gram Model.\n",
    "        :param vocab_size: Size of the vocabulary.\n",
    "        :param embedding_dim: Dimension of the word embeddings.\n",
    "        :param hidden_size: Size of the hidden layers in the BiLSTM.\n",
    "        \"\"\"\n",
    "        super(BiLSTM_N_gramModel, self).__init__()\n",
    "\n",
    "        # Embedding layer to transform indices into dense vectors of a fixed size\n",
    "        self.embedding = nn.Embedding(vocab_size, embedding_dim)\n",
    "\n",
    "        # BiLSTM layer for processing sequences, bidirectional to capture forward and backward context\n",
    "        self.bilstm = nn.LSTM(embedding_dim, hidden_size, batch_first=True, bidirectional=True)\n",
    "\n",
    "        # Multihead attention layer to focus on different positions in the sequence\n",
    "        self.attention = nn.MultiheadAttention(embed_dim=hidden_size * 2, num_heads=1, dropout=0.0,\n",
    "                                               batch_first=True)\n",
    "\n",
    "        # Fully connected layers to map the output of the attention layer to the vocabulary size\n",
    "        self.fc = torch.nn.Sequential(\n",
    "            nn.Linear(hidden_size * 2, embedding_dim),\n",
    "            nn.Linear(embedding_dim, vocab_size),\n",
    "        )\n",
    "\n",
    "    def forward(self, x):\n",
    "        \"\"\"\n",
    "        Forward pass of the model.\n",
    "        :param x: Input tensor containing sequences of word indices.\n",
    "        :return: Logits for each word in the vocabulary and attention weights.\n",
    "        \"\"\"\n",
    "        # Pass input through the embedding layer\n",
    "        embedded = self.embedding(x)\n",
    "\n",
    "        # Pass the embedded input through the BiLSTM layer\n",
    "        output, _ = self.bilstm(embedded)\n",
    "\n",
    "        # Apply the attention mechanism on the output of the BiLSTM\n",
    "        attn_output, attn_output_weights = self.attention(query=output, key=output, value=output,\n",
    "                                                          need_weights=True, average_attn_weights=True)\n",
    "\n",
    "        # Pass the output of the attention layer through the fully connected layer\n",
    "        logits = self.fc(attn_output)\n",
    "\n",
    "        # Return the logits and the attention weights\n",
    "        return logits, attn_output_weights\n",
    "\n",
    "\n",
    "# Initialize the model\n",
    "vocab_size = len(DICTIONARY_list)\n",
    "embedding_dim = 300\n",
    "hidden_size = 256\n",
    "\n",
    "model = BiLSTM_N_gramModel(vocab_size, embedding_dim, hidden_size).to(DEVICE)\n"
   ]
  },
  {
   "cell_type": "code",
   "execution_count": null,
   "metadata": {
    "colab": {
     "base_uri": "https://localhost:8080/"
    },
    "id": "s_dabwcp9qB0",
    "outputId": "bc8b0838-6df7-47d4-d438-9f27347087ba"
   },
   "outputs": [
    {
     "data": {
      "text/plain": [
       "18737"
      ]
     },
     "execution_count": 17,
     "metadata": {},
     "output_type": "execute_result"
    }
   ],
   "source": [
    "vocab_size"
   ]
  },
  {
   "cell_type": "code",
   "execution_count": null,
   "metadata": {
    "colab": {
     "base_uri": "https://localhost:8080/",
     "height": 695
    },
    "id": "8YOu2_MwlznH",
    "outputId": "f39bcb45-0145-4329-ad96-df2fb2e9ae46"
   },
   "outputs": [
    {
     "name": "stdout",
     "output_type": "stream",
     "text": [
      "BiLSTM_N_gramModel(\n",
      "  (embedding): Embedding(18737, 300)\n",
      "  (bilstm): LSTM(300, 256, batch_first=True, bidirectional=True)\n",
      "  (attention): MultiheadAttention(\n",
      "    (out_proj): NonDynamicallyQuantizableLinear(in_features=512, out_features=512, bias=True)\n",
      "  )\n",
      "  (fc): Sequential(\n",
      "    (0): Linear(in_features=512, out_features=300, bias=True)\n",
      "    (1): Linear(in_features=300, out_features=18737, bias=True)\n",
      "  )\n",
      ")\n",
      "===============================================================\n",
      "               Kernel Shape    Output Shape   Params  Mult-Adds\n",
      "Layer                                                          \n",
      "0_embedding    [300, 18737]    [28, 7, 300]  5621100    5621100\n",
      "1_bilstm                  -    [28, 7, 512]  1142784    1138688\n",
      "2_fc.Linear_0    [512, 300]    [28, 7, 300]   153900     153600\n",
      "3_fc.Linear_1  [300, 18737]  [28, 7, 18737]  5639837    5621100\n",
      "---------------------------------------------------------------\n",
      "                        Totals\n",
      "Total params          12557621\n",
      "Trainable params      12557621\n",
      "Non-trainable params         0\n",
      "Mult-Adds             12534488\n",
      "===============================================================\n"
     ]
    },
    {
     "name": "stderr",
     "output_type": "stream",
     "text": [
      "/usr/local/lib/python3.10/dist-packages/torchsummaryX/torchsummaryX.py:101: FutureWarning: The default value of numeric_only in DataFrame.sum is deprecated. In a future version, it will default to False. In addition, specifying 'numeric_only=None' is deprecated. Select only valid columns or specify the value of numeric_only to silence this warning.\n",
      "  df_sum = df.sum()\n"
     ]
    },
    {
     "data": {
      "text/html": [
       "\n",
       "  <div id=\"df-6b7da47a-de5a-48cb-8c1b-7c88d86c014c\" class=\"colab-df-container\">\n",
       "    <div>\n",
       "<style scoped>\n",
       "    .dataframe tbody tr th:only-of-type {\n",
       "        vertical-align: middle;\n",
       "    }\n",
       "\n",
       "    .dataframe tbody tr th {\n",
       "        vertical-align: top;\n",
       "    }\n",
       "\n",
       "    .dataframe thead th {\n",
       "        text-align: right;\n",
       "    }\n",
       "</style>\n",
       "<table border=\"1\" class=\"dataframe\">\n",
       "  <thead>\n",
       "    <tr style=\"text-align: right;\">\n",
       "      <th></th>\n",
       "      <th>Kernel Shape</th>\n",
       "      <th>Output Shape</th>\n",
       "      <th>Params</th>\n",
       "      <th>Mult-Adds</th>\n",
       "    </tr>\n",
       "    <tr>\n",
       "      <th>Layer</th>\n",
       "      <th></th>\n",
       "      <th></th>\n",
       "      <th></th>\n",
       "      <th></th>\n",
       "    </tr>\n",
       "  </thead>\n",
       "  <tbody>\n",
       "    <tr>\n",
       "      <th>0_embedding</th>\n",
       "      <td>[300, 18737]</td>\n",
       "      <td>[28, 7, 300]</td>\n",
       "      <td>5621100</td>\n",
       "      <td>5621100</td>\n",
       "    </tr>\n",
       "    <tr>\n",
       "      <th>1_bilstm</th>\n",
       "      <td>-</td>\n",
       "      <td>[28, 7, 512]</td>\n",
       "      <td>1142784</td>\n",
       "      <td>1138688</td>\n",
       "    </tr>\n",
       "    <tr>\n",
       "      <th>2_fc.Linear_0</th>\n",
       "      <td>[512, 300]</td>\n",
       "      <td>[28, 7, 300]</td>\n",
       "      <td>153900</td>\n",
       "      <td>153600</td>\n",
       "    </tr>\n",
       "    <tr>\n",
       "      <th>3_fc.Linear_1</th>\n",
       "      <td>[300, 18737]</td>\n",
       "      <td>[28, 7, 18737]</td>\n",
       "      <td>5639837</td>\n",
       "      <td>5621100</td>\n",
       "    </tr>\n",
       "  </tbody>\n",
       "</table>\n",
       "</div>\n",
       "    <div class=\"colab-df-buttons\">\n",
       "\n",
       "  <div class=\"colab-df-container\">\n",
       "    <button class=\"colab-df-convert\" onclick=\"convertToInteractive('df-6b7da47a-de5a-48cb-8c1b-7c88d86c014c')\"\n",
       "            title=\"Convert this dataframe to an interactive table.\"\n",
       "            style=\"display:none;\">\n",
       "\n",
       "  <svg xmlns=\"http://www.w3.org/2000/svg\" height=\"24px\" viewBox=\"0 -960 960 960\">\n",
       "    <path d=\"M120-120v-720h720v720H120Zm60-500h600v-160H180v160Zm220 220h160v-160H400v160Zm0 220h160v-160H400v160ZM180-400h160v-160H180v160Zm440 0h160v-160H620v160ZM180-180h160v-160H180v160Zm440 0h160v-160H620v160Z\"/>\n",
       "  </svg>\n",
       "    </button>\n",
       "\n",
       "  <style>\n",
       "    .colab-df-container {\n",
       "      display:flex;\n",
       "      gap: 12px;\n",
       "    }\n",
       "\n",
       "    .colab-df-convert {\n",
       "      background-color: #E8F0FE;\n",
       "      border: none;\n",
       "      border-radius: 50%;\n",
       "      cursor: pointer;\n",
       "      display: none;\n",
       "      fill: #1967D2;\n",
       "      height: 32px;\n",
       "      padding: 0 0 0 0;\n",
       "      width: 32px;\n",
       "    }\n",
       "\n",
       "    .colab-df-convert:hover {\n",
       "      background-color: #E2EBFA;\n",
       "      box-shadow: 0px 1px 2px rgba(60, 64, 67, 0.3), 0px 1px 3px 1px rgba(60, 64, 67, 0.15);\n",
       "      fill: #174EA6;\n",
       "    }\n",
       "\n",
       "    .colab-df-buttons div {\n",
       "      margin-bottom: 4px;\n",
       "    }\n",
       "\n",
       "    [theme=dark] .colab-df-convert {\n",
       "      background-color: #3B4455;\n",
       "      fill: #D2E3FC;\n",
       "    }\n",
       "\n",
       "    [theme=dark] .colab-df-convert:hover {\n",
       "      background-color: #434B5C;\n",
       "      box-shadow: 0px 1px 3px 1px rgba(0, 0, 0, 0.15);\n",
       "      filter: drop-shadow(0px 1px 2px rgba(0, 0, 0, 0.3));\n",
       "      fill: #FFFFFF;\n",
       "    }\n",
       "  </style>\n",
       "\n",
       "    <script>\n",
       "      const buttonEl =\n",
       "        document.querySelector('#df-6b7da47a-de5a-48cb-8c1b-7c88d86c014c button.colab-df-convert');\n",
       "      buttonEl.style.display =\n",
       "        google.colab.kernel.accessAllowed ? 'block' : 'none';\n",
       "\n",
       "      async function convertToInteractive(key) {\n",
       "        const element = document.querySelector('#df-6b7da47a-de5a-48cb-8c1b-7c88d86c014c');\n",
       "        const dataTable =\n",
       "          await google.colab.kernel.invokeFunction('convertToInteractive',\n",
       "                                                    [key], {});\n",
       "        if (!dataTable) return;\n",
       "\n",
       "        const docLinkHtml = 'Like what you see? Visit the ' +\n",
       "          '<a target=\"_blank\" href=https://colab.research.google.com/notebooks/data_table.ipynb>data table notebook</a>'\n",
       "          + ' to learn more about interactive tables.';\n",
       "        element.innerHTML = '';\n",
       "        dataTable['output_type'] = 'display_data';\n",
       "        await google.colab.output.renderOutput(dataTable, element);\n",
       "        const docLink = document.createElement('div');\n",
       "        docLink.innerHTML = docLinkHtml;\n",
       "        element.appendChild(docLink);\n",
       "      }\n",
       "    </script>\n",
       "  </div>\n",
       "\n",
       "\n",
       "<div id=\"df-da6c9aba-fa9a-4222-ac25-4132ab4ee7b2\">\n",
       "  <button class=\"colab-df-quickchart\" onclick=\"quickchart('df-da6c9aba-fa9a-4222-ac25-4132ab4ee7b2')\"\n",
       "            title=\"Suggest charts\"\n",
       "            style=\"display:none;\">\n",
       "\n",
       "<svg xmlns=\"http://www.w3.org/2000/svg\" height=\"24px\"viewBox=\"0 0 24 24\"\n",
       "     width=\"24px\">\n",
       "    <g>\n",
       "        <path d=\"M19 3H5c-1.1 0-2 .9-2 2v14c0 1.1.9 2 2 2h14c1.1 0 2-.9 2-2V5c0-1.1-.9-2-2-2zM9 17H7v-7h2v7zm4 0h-2V7h2v10zm4 0h-2v-4h2v4z\"/>\n",
       "    </g>\n",
       "</svg>\n",
       "  </button>\n",
       "\n",
       "<style>\n",
       "  .colab-df-quickchart {\n",
       "      --bg-color: #E8F0FE;\n",
       "      --fill-color: #1967D2;\n",
       "      --hover-bg-color: #E2EBFA;\n",
       "      --hover-fill-color: #174EA6;\n",
       "      --disabled-fill-color: #AAA;\n",
       "      --disabled-bg-color: #DDD;\n",
       "  }\n",
       "\n",
       "  [theme=dark] .colab-df-quickchart {\n",
       "      --bg-color: #3B4455;\n",
       "      --fill-color: #D2E3FC;\n",
       "      --hover-bg-color: #434B5C;\n",
       "      --hover-fill-color: #FFFFFF;\n",
       "      --disabled-bg-color: #3B4455;\n",
       "      --disabled-fill-color: #666;\n",
       "  }\n",
       "\n",
       "  .colab-df-quickchart {\n",
       "    background-color: var(--bg-color);\n",
       "    border: none;\n",
       "    border-radius: 50%;\n",
       "    cursor: pointer;\n",
       "    display: none;\n",
       "    fill: var(--fill-color);\n",
       "    height: 32px;\n",
       "    padding: 0;\n",
       "    width: 32px;\n",
       "  }\n",
       "\n",
       "  .colab-df-quickchart:hover {\n",
       "    background-color: var(--hover-bg-color);\n",
       "    box-shadow: 0 1px 2px rgba(60, 64, 67, 0.3), 0 1px 3px 1px rgba(60, 64, 67, 0.15);\n",
       "    fill: var(--button-hover-fill-color);\n",
       "  }\n",
       "\n",
       "  .colab-df-quickchart-complete:disabled,\n",
       "  .colab-df-quickchart-complete:disabled:hover {\n",
       "    background-color: var(--disabled-bg-color);\n",
       "    fill: var(--disabled-fill-color);\n",
       "    box-shadow: none;\n",
       "  }\n",
       "\n",
       "  .colab-df-spinner {\n",
       "    border: 2px solid var(--fill-color);\n",
       "    border-color: transparent;\n",
       "    border-bottom-color: var(--fill-color);\n",
       "    animation:\n",
       "      spin 1s steps(1) infinite;\n",
       "  }\n",
       "\n",
       "  @keyframes spin {\n",
       "    0% {\n",
       "      border-color: transparent;\n",
       "      border-bottom-color: var(--fill-color);\n",
       "      border-left-color: var(--fill-color);\n",
       "    }\n",
       "    20% {\n",
       "      border-color: transparent;\n",
       "      border-left-color: var(--fill-color);\n",
       "      border-top-color: var(--fill-color);\n",
       "    }\n",
       "    30% {\n",
       "      border-color: transparent;\n",
       "      border-left-color: var(--fill-color);\n",
       "      border-top-color: var(--fill-color);\n",
       "      border-right-color: var(--fill-color);\n",
       "    }\n",
       "    40% {\n",
       "      border-color: transparent;\n",
       "      border-right-color: var(--fill-color);\n",
       "      border-top-color: var(--fill-color);\n",
       "    }\n",
       "    60% {\n",
       "      border-color: transparent;\n",
       "      border-right-color: var(--fill-color);\n",
       "    }\n",
       "    80% {\n",
       "      border-color: transparent;\n",
       "      border-right-color: var(--fill-color);\n",
       "      border-bottom-color: var(--fill-color);\n",
       "    }\n",
       "    90% {\n",
       "      border-color: transparent;\n",
       "      border-bottom-color: var(--fill-color);\n",
       "    }\n",
       "  }\n",
       "</style>\n",
       "\n",
       "  <script>\n",
       "    async function quickchart(key) {\n",
       "      const quickchartButtonEl =\n",
       "        document.querySelector('#' + key + ' button');\n",
       "      quickchartButtonEl.disabled = true;  // To prevent multiple clicks.\n",
       "      quickchartButtonEl.classList.add('colab-df-spinner');\n",
       "      try {\n",
       "        const charts = await google.colab.kernel.invokeFunction(\n",
       "            'suggestCharts', [key], {});\n",
       "      } catch (error) {\n",
       "        console.error('Error during call to suggestCharts:', error);\n",
       "      }\n",
       "      quickchartButtonEl.classList.remove('colab-df-spinner');\n",
       "      quickchartButtonEl.classList.add('colab-df-quickchart-complete');\n",
       "    }\n",
       "    (() => {\n",
       "      let quickchartButtonEl =\n",
       "        document.querySelector('#df-da6c9aba-fa9a-4222-ac25-4132ab4ee7b2 button');\n",
       "      quickchartButtonEl.style.display =\n",
       "        google.colab.kernel.accessAllowed ? 'block' : 'none';\n",
       "    })();\n",
       "  </script>\n",
       "</div>\n",
       "    </div>\n",
       "  </div>\n"
      ],
      "text/plain": [
       "               Kernel Shape    Output Shape   Params  Mult-Adds\n",
       "Layer                                                          \n",
       "0_embedding    [300, 18737]    [28, 7, 300]  5621100    5621100\n",
       "1_bilstm                  -    [28, 7, 512]  1142784    1138688\n",
       "2_fc.Linear_0    [512, 300]    [28, 7, 300]   153900     153600\n",
       "3_fc.Linear_1  [300, 18737]  [28, 7, 18737]  5639837    5621100"
      ]
     },
     "execution_count": 18,
     "metadata": {},
     "output_type": "execute_result"
    }
   ],
   "source": [
    "print(model)\n",
    "torchsummaryX.summary(model, x = X__[0].to(DEVICE))"
   ]
  },
  {
   "cell_type": "markdown",
   "metadata": {
    "id": "7GhaJywn4Yki"
   },
   "source": [
    "### Initializing the Wandb businesses."
   ]
  },
  {
   "cell_type": "code",
   "execution_count": null,
   "metadata": {
    "colab": {
     "base_uri": "https://localhost:8080/"
    },
    "id": "jVCpTb9mm3Gz",
    "outputId": "96bb8120-05e0-4f4b-9b2e-0aba737dd44f"
   },
   "outputs": [
    {
     "name": "stderr",
     "output_type": "stream",
     "text": [
      "\u001b[34m\u001b[1mwandb\u001b[0m: Currently logged in as: \u001b[33muwizeyejeann\u001b[0m (\u001b[33midl_djpr\u001b[0m). Use \u001b[1m`wandb login --relogin`\u001b[0m to force relogin\n",
      "\u001b[34m\u001b[1mwandb\u001b[0m: \u001b[33mWARNING\u001b[0m If you're specifying your api key in code, ensure this code is not shared publicly.\n",
      "\u001b[34m\u001b[1mwandb\u001b[0m: \u001b[33mWARNING\u001b[0m Consider setting the WANDB_API_KEY environment variable, or running `wandb login` from the command line.\n",
      "\u001b[34m\u001b[1mwandb\u001b[0m: Appending key for api.wandb.ai to your netrc file: /root/.netrc\n"
     ]
    },
    {
     "data": {
      "text/plain": [
       "True"
      ]
     },
     "execution_count": 17,
     "metadata": {},
     "output_type": "execute_result"
    }
   ],
   "source": [
    "\n",
    "wandb.login(key=\"\")"
   ]
  },
  {
   "cell_type": "code",
   "execution_count": null,
   "metadata": {
    "colab": {
     "base_uri": "https://localhost:8080/",
     "height": 104
    },
    "id": "JYOomdV8m7XZ",
    "outputId": "342537c3-c204-474a-9c07-288df8b5b073"
   },
   "outputs": [
    {
     "data": {
      "text/html": [
       "Tracking run with wandb version 0.16.1"
      ],
      "text/plain": [
       "<IPython.core.display.HTML object>"
      ]
     },
     "metadata": {},
     "output_type": "display_data"
    },
    {
     "data": {
      "text/html": [
       "Run data is saved locally in <code>/content/wandb/run-20231208_092410-r0s6566h</code>"
      ],
      "text/plain": [
       "<IPython.core.display.HTML object>"
      ]
     },
     "metadata": {},
     "output_type": "display_data"
    },
    {
     "data": {
      "text/html": [
       "Syncing run <strong><a href='https://wandb.ai/idl_djpr/LSTM-attention-ablations/runs/r0s6566h' target=\"_blank\">lstm_attention_project_7_gram</a></strong> to <a href='https://wandb.ai/idl_djpr/LSTM-attention-ablations' target=\"_blank\">Weights & Biases</a> (<a href='https://wandb.me/run' target=\"_blank\">docs</a>)<br/>"
      ],
      "text/plain": [
       "<IPython.core.display.HTML object>"
      ]
     },
     "metadata": {},
     "output_type": "display_data"
    },
    {
     "data": {
      "text/html": [
       " View project at <a href='https://wandb.ai/idl_djpr/LSTM-attention-ablations' target=\"_blank\">https://wandb.ai/idl_djpr/LSTM-attention-ablations</a>"
      ],
      "text/plain": [
       "<IPython.core.display.HTML object>"
      ]
     },
     "metadata": {},
     "output_type": "display_data"
    },
    {
     "data": {
      "text/html": [
       " View run at <a href='https://wandb.ai/idl_djpr/LSTM-attention-ablations/runs/r0s6566h' target=\"_blank\">https://wandb.ai/idl_djpr/LSTM-attention-ablations/runs/r0s6566h</a>"
      ],
      "text/plain": [
       "<IPython.core.display.HTML object>"
      ]
     },
     "metadata": {},
     "output_type": "display_data"
    }
   ],
   "source": [
    "run = wandb.init(\n",
    "    name = f\"lstm_attention_project_{N}_gram\", #\n",
    "    reinit = True, #l\n",
    "    # id ='gin6p8tb', #\n",
    "    # resume = \"must\", #\n",
    "    project = \"LSTM-attention-ablations\", ### Print\n",
    "    # config = config ### W0n\n",
    ")"
   ]
  },
  {
   "cell_type": "markdown",
   "metadata": {
    "id": "KADzen5041xn"
   },
   "source": [
    "### Training & Evaluation"
   ]
  },
  {
   "cell_type": "code",
   "execution_count": null,
   "metadata": {
    "id": "S8rRU_T7tRx1"
   },
   "outputs": [],
   "source": [
    "# Define loss and optimizer\n",
    "criterion = nn.CrossEntropyLoss()\n",
    "optimizer = optim.Adam(model.parameters(), lr=0.001)"
   ]
  },
  {
   "cell_type": "code",
   "execution_count": null,
   "metadata": {
    "colab": {
     "base_uri": "https://localhost:8080/",
     "height": 1000
    },
    "id": "In_5nfKntRz_",
    "outputId": "9a52727f-69de-4377-dc1f-d3d42e369766"
   },
   "outputs": [
    {
     "metadata": {
      "tags": null
     },
     "name": "stderr",
     "output_type": "stream",
     "text": [
      "Epoch 1/20 - Training: 100%|██████████| 1647/1647 [05:27<00:00,  5.03it/s]\n",
      "Validation: 100%|██████████| 4/4 [00:01<00:00,  3.50it/s]\n"
     ]
    },
    {
     "metadata": {
      "tags": null
     },
     "name": "stdout",
     "output_type": "stream",
     "text": [
      "Epoch 1/20, Training Loss: 1.9942, Validation Loss: 1.6587, Training Accuracy: 0.7478, Validation Accuracy: 0.7936\n",
      "Saving model\n"
     ]
    },
    {
     "metadata": {
      "tags": null
     },
     "name": "stderr",
     "output_type": "stream",
     "text": [
      "Epoch 2/20 - Training: 100%|██████████| 1647/1647 [00:42<00:00, 38.83it/s]\n",
      "Validation: 100%|██████████| 4/4 [00:00<00:00, 29.97it/s]\n"
     ]
    },
    {
     "metadata": {
      "tags": null
     },
     "name": "stdout",
     "output_type": "stream",
     "text": [
      "Epoch 2/20, Training Loss: 1.1865, Validation Loss: 1.1737, Training Accuracy: 0.8406, Validation Accuracy: 0.8457\n",
      "Saving model\n"
     ]
    },
    {
     "metadata": {
      "tags": null
     },
     "name": "stderr",
     "output_type": "stream",
     "text": [
      "Epoch 3/20 - Training: 100%|██████████| 1647/1647 [00:43<00:00, 37.75it/s]\n",
      "Validation: 100%|██████████| 4/4 [00:00<00:00, 30.45it/s]\n"
     ]
    },
    {
     "metadata": {
      "tags": null
     },
     "name": "stdout",
     "output_type": "stream",
     "text": [
      "Epoch 3/20, Training Loss: 0.9983, Validation Loss: 1.0433, Training Accuracy: 0.8618, Validation Accuracy: 0.8614\n",
      "Saving model\n"
     ]
    },
    {
     "metadata": {
      "tags": null
     },
     "name": "stderr",
     "output_type": "stream",
     "text": [
      "Epoch 4/20 - Training: 100%|██████████| 1647/1647 [00:45<00:00, 36.60it/s]\n",
      "Validation: 100%|██████████| 4/4 [00:00<00:00, 20.04it/s]\n"
     ]
    },
    {
     "metadata": {
      "tags": null
     },
     "name": "stdout",
     "output_type": "stream",
     "text": [
      "Epoch 4/20, Training Loss: 0.9216, Validation Loss: 0.9889, Training Accuracy: 0.8699, Validation Accuracy: 0.8604\n"
     ]
    },
    {
     "metadata": {
      "tags": null
     },
     "name": "stderr",
     "output_type": "stream",
     "text": [
      "Epoch 5/20 - Training: 100%|██████████| 1647/1647 [00:41<00:00, 39.49it/s]\n",
      "Validation: 100%|██████████| 4/4 [00:00<00:00, 31.99it/s]\n"
     ]
    },
    {
     "metadata": {
      "tags": null
     },
     "name": "stdout",
     "output_type": "stream",
     "text": [
      "Epoch 5/20, Training Loss: 0.8879, Validation Loss: 0.9692, Training Accuracy: 0.8741, Validation Accuracy: 0.8625\n",
      "Saving model\n"
     ]
    },
    {
     "metadata": {
      "tags": null
     },
     "name": "stderr",
     "output_type": "stream",
     "text": [
      "Epoch 6/20 - Training: 100%|██████████| 1647/1647 [00:42<00:00, 38.56it/s]\n",
      "Validation: 100%|██████████| 4/4 [00:00<00:00, 34.02it/s]\n"
     ]
    },
    {
     "metadata": {
      "tags": null
     },
     "name": "stdout",
     "output_type": "stream",
     "text": [
      "Epoch 6/20, Training Loss: 0.8631, Validation Loss: 0.9263, Training Accuracy: 0.8760, Validation Accuracy: 0.8675\n",
      "Saving model\n"
     ]
    },
    {
     "metadata": {
      "tags": null
     },
     "name": "stderr",
     "output_type": "stream",
     "text": [
      "Epoch 7/20 - Training: 100%|██████████| 1647/1647 [00:42<00:00, 38.98it/s]\n",
      "Validation: 100%|██████████| 4/4 [00:00<00:00, 23.19it/s]\n"
     ]
    },
    {
     "metadata": {
      "tags": null
     },
     "name": "stdout",
     "output_type": "stream",
     "text": [
      "Epoch 7/20, Training Loss: 0.8499, Validation Loss: 0.9242, Training Accuracy: 0.8772, Validation Accuracy: 0.8682\n",
      "Saving model\n"
     ]
    },
    {
     "metadata": {
      "tags": null
     },
     "name": "stderr",
     "output_type": "stream",
     "text": [
      "Epoch 8/20 - Training: 100%|██████████| 1647/1647 [00:42<00:00, 39.20it/s]\n",
      "Validation: 100%|██████████| 4/4 [00:00<00:00, 30.61it/s]\n"
     ]
    },
    {
     "metadata": {
      "tags": null
     },
     "name": "stdout",
     "output_type": "stream",
     "text": [
      "Epoch 8/20, Training Loss: 0.8382, Validation Loss: 0.9146, Training Accuracy: 0.8784, Validation Accuracy: 0.8679\n"
     ]
    },
    {
     "metadata": {
      "tags": null
     },
     "name": "stderr",
     "output_type": "stream",
     "text": [
      "Epoch 9/20 - Training: 100%|██████████| 1647/1647 [00:42<00:00, 38.97it/s]\n",
      "Validation: 100%|██████████| 4/4 [00:00<00:00, 31.70it/s]\n"
     ]
    },
    {
     "metadata": {
      "tags": null
     },
     "name": "stdout",
     "output_type": "stream",
     "text": [
      "Epoch 9/20, Training Loss: 0.8265, Validation Loss: 0.9127, Training Accuracy: 0.8799, Validation Accuracy: 0.8686\n",
      "Saving model\n"
     ]
    },
    {
     "metadata": {
      "tags": null
     },
     "name": "stderr",
     "output_type": "stream",
     "text": [
      "Epoch 10/20 - Training: 100%|██████████| 1647/1647 [00:42<00:00, 39.16it/s]\n",
      "Validation: 100%|██████████| 4/4 [00:00<00:00, 23.30it/s]\n"
     ]
    },
    {
     "metadata": {
      "tags": null
     },
     "name": "stdout",
     "output_type": "stream",
     "text": [
      "Epoch 10/20, Training Loss: 0.8203, Validation Loss: 0.9079, Training Accuracy: 0.8800, Validation Accuracy: 0.8718\n",
      "Saving model\n"
     ]
    },
    {
     "metadata": {
      "tags": null
     },
     "name": "stderr",
     "output_type": "stream",
     "text": [
      "Epoch 11/20 - Training: 100%|██████████| 1647/1647 [00:42<00:00, 38.53it/s]\n",
      "Validation: 100%|██████████| 4/4 [00:00<00:00, 33.35it/s]\n"
     ]
    },
    {
     "metadata": {
      "tags": null
     },
     "name": "stdout",
     "output_type": "stream",
     "text": [
      "Epoch 11/20, Training Loss: 0.8131, Validation Loss: 0.9185, Training Accuracy: 0.8805, Validation Accuracy: 0.8661\n"
     ]
    },
    {
     "name": "stderr",
     "output_type": "stream",
     "text": [
      "Epoch 12/20 - Training: 100%|██████████| 1647/1647 [00:41<00:00, 39.28it/s]\n",
      "Validation: 100%|██████████| 4/4 [00:00<00:00, 31.88it/s]\n"
     ]
    },
    {
     "name": "stdout",
     "output_type": "stream",
     "text": [
      "Epoch 12/20, Training Loss: 0.8124, Validation Loss: 0.9068, Training Accuracy: 0.8806, Validation Accuracy: 0.8689\n"
     ]
    },
    {
     "name": "stderr",
     "output_type": "stream",
     "text": [
      "Epoch 13/20 - Training: 100%|██████████| 1647/1647 [00:41<00:00, 39.79it/s]\n",
      "Validation: 100%|██████████| 4/4 [00:00<00:00, 29.25it/s]\n"
     ]
    },
    {
     "name": "stdout",
     "output_type": "stream",
     "text": [
      "Epoch 13/20, Training Loss: 0.8032, Validation Loss: 0.8983, Training Accuracy: 0.8814, Validation Accuracy: 0.8700\n"
     ]
    },
    {
     "name": "stderr",
     "output_type": "stream",
     "text": [
      "Epoch 14/20 - Training: 100%|██████████| 1647/1647 [00:40<00:00, 40.18it/s]\n",
      "Validation: 100%|██████████| 4/4 [00:00<00:00, 21.28it/s]\n"
     ]
    },
    {
     "name": "stdout",
     "output_type": "stream",
     "text": [
      "Epoch 14/20, Training Loss: 0.8029, Validation Loss: 0.8950, Training Accuracy: 0.8813, Validation Accuracy: 0.8711\n"
     ]
    },
    {
     "name": "stderr",
     "output_type": "stream",
     "text": [
      "Epoch 15/20 - Training: 100%|██████████| 1647/1647 [00:40<00:00, 40.36it/s]\n",
      "Validation: 100%|██████████| 4/4 [00:00<00:00, 31.47it/s]\n"
     ]
    },
    {
     "name": "stdout",
     "output_type": "stream",
     "text": [
      "Epoch 15/20, Training Loss: 0.7989, Validation Loss: 0.9067, Training Accuracy: 0.8816, Validation Accuracy: 0.8668\n"
     ]
    },
    {
     "name": "stderr",
     "output_type": "stream",
     "text": [
      "Epoch 16/20 - Training: 100%|██████████| 1647/1647 [00:41<00:00, 39.50it/s]\n",
      "Validation: 100%|██████████| 4/4 [00:00<00:00, 29.48it/s]\n"
     ]
    },
    {
     "name": "stdout",
     "output_type": "stream",
     "text": [
      "Epoch 16/20, Training Loss: 0.7960, Validation Loss: 0.8860, Training Accuracy: 0.8822, Validation Accuracy: 0.8732\n",
      "Saving model\n"
     ]
    },
    {
     "name": "stderr",
     "output_type": "stream",
     "text": [
      "Epoch 17/20 - Training: 100%|██████████| 1647/1647 [00:41<00:00, 39.41it/s]\n",
      "Validation: 100%|██████████| 4/4 [00:00<00:00, 31.89it/s]\n"
     ]
    },
    {
     "name": "stdout",
     "output_type": "stream",
     "text": [
      "Epoch 17/20, Training Loss: 0.7951, Validation Loss: 0.8926, Training Accuracy: 0.8819, Validation Accuracy: 0.8704\n"
     ]
    },
    {
     "name": "stderr",
     "output_type": "stream",
     "text": [
      "Epoch 18/20 - Training: 100%|██████████| 1647/1647 [00:40<00:00, 40.21it/s]\n",
      "Validation: 100%|██████████| 4/4 [00:00<00:00, 33.11it/s]\n"
     ]
    },
    {
     "name": "stdout",
     "output_type": "stream",
     "text": [
      "Epoch 18/20, Training Loss: 0.7879, Validation Loss: 0.8828, Training Accuracy: 0.8825, Validation Accuracy: 0.8696\n"
     ]
    },
    {
     "name": "stderr",
     "output_type": "stream",
     "text": [
      "Epoch 19/20 - Training: 100%|██████████| 1647/1647 [00:40<00:00, 41.02it/s]\n",
      "Validation: 100%|██████████| 4/4 [00:00<00:00, 22.77it/s]\n"
     ]
    },
    {
     "name": "stdout",
     "output_type": "stream",
     "text": [
      "Epoch 19/20, Training Loss: 0.7858, Validation Loss: 0.8781, Training Accuracy: 0.8830, Validation Accuracy: 0.8693\n"
     ]
    },
    {
     "name": "stderr",
     "output_type": "stream",
     "text": [
      "Epoch 20/20 - Training: 100%|██████████| 1647/1647 [00:40<00:00, 40.55it/s]\n",
      "Validation: 100%|██████████| 4/4 [00:00<00:00, 33.26it/s]\n"
     ]
    },
    {
     "name": "stdout",
     "output_type": "stream",
     "text": [
      "Epoch 20/20, Training Loss: 0.7800, Validation Loss: 0.8686, Training Accuracy: 0.8828, Validation Accuracy: 0.8757\n",
      "Saving model\n"
     ]
    },
    {
     "data": {
      "image/png": "[encoded data removed]",
      "text/plain": [
       "<Figure size 640x480 with 1 Axes>"
      ]
     },
     "metadata": {},
     "output_type": "display_data"
    }
   ],
   "source": [
    "# Initialize empty lists to store accuracy values\n",
    "train_accuracies = []\n",
    "val_accuracies = []\n",
    "best_valacc = 0.0\n",
    "num_epochs = 20\n",
    "\n",
    "#training loop\n",
    "for epoch in range(num_epochs):\n",
    "    model.train()\n",
    "    total_loss = 0.0\n",
    "    correct_train = 0\n",
    "    total_train = 0\n",
    "    train_loader_iter = tqdm(train_loader, desc=f'Epoch {epoch + 1}/{num_epochs} - Training', dynamic_ncols=True)\n",
    "\n",
    "    for inputs, targets in train_loader_iter:\n",
    "        inputs = inputs[0].to(DEVICE)\n",
    "        targets = targets[0].to(DEVICE)\n",
    "        optimizer.zero_grad()\n",
    "        outputs, attention_plot = model(inputs)\n",
    "        loss = criterion(outputs.view(-1, vocab_size), targets.view(-1))\n",
    "        loss.backward()\n",
    "        optimizer.step()\n",
    "        total_loss += loss.item()\n",
    "\n",
    "        # Calculate accuracy\n",
    "        _, predicted = torch.max(outputs, 2)\n",
    "        correct_train += (predicted == targets).sum().item()\n",
    "        total_train += targets.numel()\n",
    "\n",
    "    # Validation loss and accuracy\n",
    "    model.eval()\n",
    "    with torch.no_grad():\n",
    "        val_loss = 0.0\n",
    "        correct_val = 0\n",
    "        total_val = 0\n",
    "        val_loader_iter = tqdm(val_loader, desc='Validation', dynamic_ncols=True)\n",
    "\n",
    "        for inputs, targets in val_loader_iter:\n",
    "            inputs = inputs[0].to(DEVICE)\n",
    "            targets = targets[0].to(DEVICE)\n",
    "            outputs, attention_plot = model(inputs)\n",
    "            val_loss += criterion(outputs.view(-1, vocab_size), targets.view(-1)).item()\n",
    "\n",
    "            # Calculate accuracy\n",
    "            _, predicted = torch.max(outputs, 2)\n",
    "            correct_val += (predicted == targets).sum().item()\n",
    "            total_val += targets.numel()\n",
    "\n",
    "    average_train_loss = total_loss / len(train_loader)\n",
    "    average_val_loss = val_loss / len(val_loader)\n",
    "\n",
    "    # Calculate and store accuracies\n",
    "    train_accuracy = correct_train / total_train\n",
    "    val_accuracy = correct_val / total_val\n",
    "    train_accuracies.append(train_accuracy)\n",
    "    val_accuracies.append(val_accuracy)\n",
    "\n",
    "    print(f'Epoch {epoch + 1}/{num_epochs}, Training Loss: {average_train_loss:.4f}, Validation Loss: {average_val_loss:.4f}, Training Accuracy: {train_accuracy:.4f}, Validation Accuracy: {val_accuracy:.4f}')\n",
    "    if val_accuracy >= best_valacc:\n",
    "      #path = os.path.join(root, model_directory, 'checkpoint' + '.pth')\n",
    "      print(\"Saving model\")\n",
    "      torch.save({'model_state_dict':model.state_dict(),\n",
    "                  'optimizer_state_dict':optimizer.state_dict(),\n",
    "                  'val_acc': val_accuracy,\n",
    "                  'epoch': epoch}, '/content/drive/MyDrive/IDL_dataset/checkpoints/LSTM_attention_checkpoint.pth')\n",
    "      best_valacc = val_accuracy\n",
    "      wandb.save('LSTM_attention_checkpoint.pth')\n",
    "# Plot the accuracy curve\n",
    "plt.plot(range(1, num_epochs + 1), train_accuracies, label='Training Accuracy')\n",
    "plt.plot(range(1, num_epochs + 1), val_accuracies, label='Validation Accuracy')\n",
    "plt.xlabel('Epoch')\n",
    "plt.ylabel('Accuracy')\n",
    "plt.title('Training and Validation Accuracy Over Epochs')\n",
    "plt.legend()\n",
    "plt.show()"
   ]
  },
  {
   "cell_type": "code",
   "execution_count": null,
   "metadata": {
    "colab": {
     "background_save": true
    },
    "id": "LvLK73rKgzJ2"
   },
   "outputs": [],
   "source": [
    "def save_model(model, optimizer, scheduler,  path):\n",
    "    torch.save(\n",
    "        {'model_state_dict'         : model.state_dict(),\n",
    "         'optimizer_state_dict'     : optimizer.state_dict(),\n",
    "         'scheduler_state_dict'     : None if scheduler is None else scheduler.state_dict(),\n",
    "         'epoch'                    : epoch},\n",
    "         path\n",
    "    )"
   ]
  },
  {
   "cell_type": "code",
   "execution_count": null,
   "metadata": {
    "colab": {
     "background_save": true
    },
    "id": "ZF3QdmnCihYY"
   },
   "outputs": [],
   "source": [
    "save_model(model,\n",
    "           optimizer,\n",
    "           scheduler=None,\n",
    "           path = f\"/content/drive/MyDrive/IDL project/ATTENTION/{N}-gram.pth\"\n",
    "           )"
   ]
  },
  {
   "cell_type": "code",
   "execution_count": null,
   "metadata": {
    "id": "pKPUdGajjLmG"
   },
   "outputs": [],
   "source": [
    "def plot_attention(attention):\n",
    "    plt.clf()\n",
    "    seaborn.heatmap(attention, cmap='GnBu')\n",
    "    plt.show()"
   ]
  },
  {
   "cell_type": "markdown",
   "metadata": {
    "id": "-fuAMeNm5K7e"
   },
   "source": [
    "#### Attention plots (samples)"
   ]
  },
  {
   "cell_type": "code",
   "execution_count": null,
   "metadata": {
    "colab": {
     "base_uri": "https://localhost:8080/",
     "height": 430
    },
    "id": "FdOgCn8aj5Y-",
    "outputId": "6f328609-d488-40c9-9a15-cf303c3b3c48"
   },
   "outputs": [
    {
     "data": {
      "image/png": "[encoded data removed]",
      "text/plain": [
       "<Figure size 640x480 with 2 Axes>"
      ]
     },
     "metadata": {},
     "output_type": "display_data"
    }
   ],
   "source": [
    "plot_attention(attention_plot.mean(axis=0).cpu().detach().numpy())"
   ]
  },
  {
   "cell_type": "code",
   "execution_count": null,
   "metadata": {
    "colab": {
     "base_uri": "https://localhost:8080/",
     "height": 430
    },
    "id": "kl6xsZ6qjhAY",
    "outputId": "b3e63936-afe9-4f55-cee8-b9324c92e3b4"
   },
   "outputs": [
    {
     "data": {
      "image/png": "[encoded data removed]",
      "text/plain": [
       "<Figure size 640x480 with 2 Axes>"
      ]
     },
     "metadata": {},
     "output_type": "display_data"
    }
   ],
   "source": [
    "plot_attention(attention_plot[0].cpu().detach().numpy())"
   ]
  },
  {
   "cell_type": "code",
   "execution_count": null,
   "metadata": {
    "colab": {
     "base_uri": "https://localhost:8080/",
     "height": 430
    },
    "id": "c7bU_HPnjl0O",
    "outputId": "efc5ad75-1ed9-4151-dbaa-6840dbb4ea37"
   },
   "outputs": [
    {
     "data": {
      "image/png": "[encoded data removed]",
      "text/plain": [
       "<Figure size 640x480 with 2 Axes>"
      ]
     },
     "metadata": {},
     "output_type": "display_data"
    }
   ],
   "source": [
    "plot_attention(attention_plot[1].cpu().detach().numpy())"
   ]
  },
  {
   "cell_type": "code",
   "execution_count": null,
   "metadata": {
    "colab": {
     "base_uri": "https://localhost:8080/"
    },
    "id": "JL9yhuwJjcDG",
    "outputId": "d666cde3-00b5-4daa-d6d2-be72d5dbebd7"
   },
   "outputs": [
    {
     "data": {
      "text/plain": [
       "torch.Size([28, 7, 7])"
      ]
     },
     "execution_count": 27,
     "metadata": {},
     "output_type": "execute_result"
    }
   ],
   "source": [
    "attention_plot.shape"
   ]
  },
  {
   "cell_type": "code",
   "execution_count": null,
   "metadata": {
    "colab": {
     "base_uri": "https://localhost:8080/"
    },
    "id": "Z5JCa4t5jzCF",
    "outputId": "81cfd2c2-fef9-4d82-98d4-29e7c5289316"
   },
   "outputs": [
    {
     "data": {
      "text/plain": [
       "torch.Size([7, 7])"
      ]
     },
     "execution_count": 28,
     "metadata": {},
     "output_type": "execute_result"
    }
   ],
   "source": [
    "attention_plot.mean(axis=0).shape"
   ]
  },
  {
   "cell_type": "markdown",
   "metadata": {
    "id": "uQR-OnqM6rtW"
   },
   "source": [
    "### Making inferences"
   ]
  },
  {
   "cell_type": "code",
   "execution_count": null,
   "metadata": {
    "id": "3W86CDzltR18"
   },
   "outputs": [],
   "source": [
    "def predict_next_word(model, context, vocab_dict, index_dict, top_k = 3):\n",
    "    model.eval()\n",
    "\n",
    "    with torch.no_grad():\n",
    "        # Convert context to indices\n",
    "        context_indices = [vocab_dict.get(word, UNK_IDX) for word in context]\n",
    "        input_tensor = torch.LongTensor(context_indices).unsqueeze(0)\n",
    "\n",
    "        # Get model prediction\n",
    "        output = model(input_tensor.to(DEVICE))\n",
    "        # print(output.shape)\n",
    "        predicted_index = torch.argmax(output[0, -1, :]).item()\n",
    "\n",
    "        # Convert index to word\n",
    "        predicted_word = index_dict.get(predicted_index, \"<unk>\")\n",
    "\n",
    "        top_values, top_indices = torch.topk(torch.nn.Softmax(dim=0)(output[0, -1, :]), k=top_k)\n",
    "\n",
    "        top_words = [index_dict.get(top_word, \"<unk>\") for top_word in top_indices.tolist()]\n",
    "\n",
    "\n",
    "        top_k_dict = dict(zip(top_words, top_values.tolist()))\n",
    "\n",
    "        print(f\"Top {top_k} predicted words:\\n\", top_k_dict)\n",
    "\n",
    "        return predicted_word"
   ]
  },
  {
   "cell_type": "code",
   "execution_count": null,
   "metadata": {
    "id": "q04cmoJR0lxV"
   },
   "outputs": [],
   "source": [
    "ngram_to_index = DICTIONARY_dict\n",
    "index_to_ngram = {value: key for key, value in DICTIONARY_dict.items()}"
   ]
  },
  {
   "cell_type": "code",
   "execution_count": null,
   "metadata": {
    "colab": {
     "base_uri": "https://localhost:8080/"
    },
    "id": "HRa58MTttR4M",
    "outputId": "be55b137-2659-4a97-bd0f-99984fc87195"
   },
   "outputs": [
    {
     "name": "stdout",
     "output_type": "stream",
     "text": [
      "Top 4 predicted words:\n",
      " {'<unk>': 0.052292946726083755, 'gukumira': 0.04070750251412392, 'kubaka': 0.03730732947587967, 'bikorwa': 0.030961250886321068}\n",
      "Next word prediction: <unk>\n"
     ]
    }
   ],
   "source": [
    "# Example usage:\n",
    "input_text = \"Ubu bufatanye buratwongerera imbaraga mu\"\n",
    "input_context = [\"<sos>\"] + input_text.lower().split()\n",
    "predicted_word = predict_next_word(model, input_context, ngram_to_index, index_to_ngram, top_k= 4)\n",
    "print(f'Next word prediction: {predicted_word}')\n"
   ]
  },
  {
   "cell_type": "code",
   "execution_count": null,
   "metadata": {
    "colab": {
     "base_uri": "https://localhost:8080/"
    },
    "id": "k1b23xe9tR7m",
    "outputId": "2fea41a7-8273-4044-8e39-bfb6f6301474"
   },
   "outputs": [
    {
     "data": {
      "text/plain": [
       "<All keys matched successfully>"
      ]
     },
     "execution_count": 49,
     "metadata": {},
     "output_type": "execute_result"
    }
   ],
   "source": [
    "state_dict = torch.load(\"/content/LSTM_attention_checkpoint.pth\",map_location=torch.device('cpu'))\n",
    "model.load_state_dict(state_dict[\"model_state_dict\"])"
   ]
  },
  {
   "cell_type": "markdown",
   "metadata": {
    "id": "3p5anD1G609C"
   },
   "source": [
    "#### Top-K accuracy Evaluation"
   ]
  },
  {
   "cell_type": "code",
   "execution_count": null,
   "metadata": {
    "id": "ueReSYm7kF41"
   },
   "outputs": [],
   "source": [
    "def validate(model, k=5):\n",
    "      # Validation loss and accuracy\n",
    "    from tqdm import tqdm\n",
    "    model.eval()\n",
    "    with torch.no_grad():\n",
    "        val_loss = 0.0\n",
    "        correct_val = 0\n",
    "        correct_val_top_k = 0\n",
    "        total_val = 0\n",
    "        val_loader_iter = tqdm(val_loader, desc='Validation', dynamic_ncols=True)\n",
    "\n",
    "        for inputs, targets in val_loader_iter:\n",
    "            inputs = inputs[0].to(DEVICE)\n",
    "            targets = targets[0].to(DEVICE)\n",
    "            outputs, attention_plot = model(inputs)\n",
    "            val_loss += criterion(outputs.view(-1, vocab_size), targets.view(-1)).item()\n",
    "\n",
    "            # Calculate accuracy\n",
    "            _, predicted = torch.max(outputs, 2)\n",
    "            correct_val += (predicted == targets).sum().item()\n",
    "            _, topk_predicted = torch.topk(outputs, k, dim=2)\n",
    "            correct_val_top_k += torch.any(topk_predicted == targets.view(targets.size(0), targets.size(1), 1), dim=2).sum().item()\n",
    "\n",
    "            total_val += targets.numel()\n",
    "\n",
    "    average_val_loss = val_loss / len(val_loader)\n",
    "\n",
    "    # Calculate and store accuracies\n",
    "    val_accuracy = correct_val / total_val\n",
    "    val_k_accuracy = correct_val_top_k/ total_val\n",
    "    return val_k_accuracy"
   ]
  },
  {
   "cell_type": "code",
   "execution_count": null,
   "metadata": {
    "colab": {
     "base_uri": "https://localhost:8080/"
    },
    "id": "SQpeMLaCk948",
    "outputId": "4e2896f2-7255-4d9d-b71b-60384c48014f"
   },
   "outputs": [
    {
     "name": "stderr",
     "output_type": "stream",
     "text": [
      "Validation: 100%|██████████| 331/331 [00:09<00:00, 34.24it/s]\n",
      "Validation: 100%|██████████| 331/331 [00:08<00:00, 37.97it/s]\n",
      "Validation: 100%|██████████| 331/331 [00:08<00:00, 40.02it/s]\n",
      "Validation: 100%|██████████| 331/331 [00:09<00:00, 36.27it/s]\n",
      "Validation: 100%|██████████| 331/331 [00:07<00:00, 43.25it/s]\n",
      "Validation: 100%|██████████| 331/331 [00:09<00:00, 35.40it/s]\n",
      "Validation: 100%|██████████| 331/331 [00:07<00:00, 43.36it/s]\n",
      "Validation: 100%|██████████| 331/331 [00:09<00:00, 36.04it/s]\n",
      "Validation: 100%|██████████| 331/331 [00:07<00:00, 41.93it/s]\n",
      "Validation: 100%|██████████| 331/331 [00:09<00:00, 35.95it/s]\n"
     ]
    }
   ],
   "source": [
    "k_accuracies = [validate(model, k) for k in range(1,11)]"
   ]
  },
  {
   "cell_type": "code",
   "execution_count": null,
   "metadata": {
    "colab": {
     "base_uri": "https://localhost:8080/"
    },
    "id": "fRZyf5wNqoN6",
    "outputId": "cb8ca77a-78e9-4eea-b766-19b2ccfa32c4"
   },
   "outputs": [
    {
     "name": "stderr",
     "output_type": "stream",
     "text": [
      "Validation: 100%|██████████| 331/331 [00:12<00:00, 25.81it/s]\n"
     ]
    },
    {
     "data": {
      "text/plain": [
       "0.00024114112886745412"
      ]
     },
     "execution_count": 46,
     "metadata": {},
     "output_type": "execute_result"
    }
   ],
   "source": [
    "validate(model,1)"
   ]
  },
  {
   "cell_type": "code",
   "execution_count": null,
   "metadata": {
    "colab": {
     "base_uri": "https://localhost:8080/"
    },
    "id": "mwSOWF-frrRb",
    "outputId": "de45eaf8-ed71-4ba8-ba04-6b1c905bef22"
   },
   "outputs": [
    {
     "name": "stderr",
     "output_type": "stream",
     "text": [
      "Validation: 100%|██████████| 331/331 [00:09<00:00, 35.95it/s]\n"
     ]
    }
   ],
   "source": [
    "from tqdm import tqdm\n",
    "val_loader_iter = tqdm(val_loader, desc='Validation', dynamic_ncols=True)\n",
    "\n",
    "for inputs, targets in val_loader_iter:\n",
    "    inputs = inputs[0].to(DEVICE)\n",
    "    targets = targets[0].to(DEVICE)\n",
    "    outputs, attention_plot = model(inputs)"
   ]
  },
  {
   "cell_type": "code",
   "execution_count": null,
   "metadata": {
    "colab": {
     "base_uri": "https://localhost:8080/",
     "height": 489
    },
    "id": "-Ep1Cjufukrr",
    "outputId": "2c139e31-9fa1-4791-cd4e-984433a6d195"
   },
   "outputs": [
    {
     "data": {
      "text/plain": [
       "Text(3, 0.9, 'K=3, Top-K Accuracy=89.96%')"
      ]
     },
     "execution_count": 107,
     "metadata": {},
     "output_type": "execute_result"
    },
    {
     "data": {
      "image/png": "[encoded data removed]",
      "text/plain": [
       "<Figure size 640x480 with 1 Axes>"
      ]
     },
     "metadata": {},
     "output_type": "display_data"
    }
   ],
   "source": [
    "plt.plot(np.arange(1,11), np.array(k_accuracies)[:,1] )\n",
    "plt.title(\"Top-K Accuracy against K\")\n",
    "plt.xlabel(\"K\")\n",
    "plt.ylabel(\"Top-K Accuracy\")\n",
    "plt.plot([3,3],[0.88,0.92],\"y:\")\n",
    "plt.plot([1,10],[0.8996,0.8996],\"y:\")\n",
    "plt.annotate(\"K=3, Top-K Accuracy=89.96%\",(3,.9))"
   ]
  },
  {
   "cell_type": "code",
   "execution_count": null,
   "metadata": {
    "id": "JEegN899Ozwk"
   },
   "outputs": [],
   "source": []
  }
 ],
 "metadata": {
  "accelerator": "GPU",
  "colab": {
   "provenance": []
  },
  "kernelspec": {
   "display_name": "Python 3 (ipykernel)",
   "language": "python",
   "name": "python3"
  },
  "language_info": {
   "codemirror_mode": {
    "name": "ipython",
    "version": 3
   },
   "file_extension": ".py",
   "mimetype": "text/x-python",
   "name": "python",
   "nbconvert_exporter": "python",
   "pygments_lexer": "ipython3",
   "version": "3.11.4"
  }
 },
 "nbformat": 4,
 "nbformat_minor": 1
}
